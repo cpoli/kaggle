{
 "cells": [
  {
   "cell_type": "code",
   "execution_count": 1,
   "metadata": {
    "collapsed": false
   },
   "outputs": [],
   "source": [
    "# http://efavdb.com/predicting-san-francisco-crimes/\n",
    "# https://github.com/lenguyenthedat/kaggle-for-fun/tree/master/sf-crime-classification\n",
    "# PREDICT PROBA\n",
    "import numpy as np\n",
    "import pandas as pd\n",
    "from pandas import Series\n",
    "import matplotlib.pyplot as plt\n",
    "import seaborn as sns\n",
    "from sklearn.cross_validation import train_test_split\n",
    "from sklearn.cross_validation import StratifiedKFold\n",
    "from sklearn.metrics import accuracy_score\n",
    "from sklearn.metrics import log_loss\n",
    "#from sklearn import metrics\n",
    "from sklearn import preprocessing\n",
    "\n",
    "# Machine Learning imports\n",
    "from sklearn.linear_model import LinearRegression\n",
    "from sklearn.linear_model import Ridge\n",
    "from sklearn.linear_model import Lasso\n",
    "from sklearn.linear_model import LogisticRegression\n",
    "from sklearn.svm import SVR\n",
    "from sklearn.svm import SVC\n",
    "from sklearn.neighbors import KNeighborsClassifier\n",
    "from sklearn.ensemble import RandomForestClassifier\n",
    "from sklearn.ensemble import ExtraTreesClassifier\n",
    "from sklearn.tree import DecisionTreeClassifier\n",
    "\n",
    "from sklearn.cross_validation import train_test_split\n",
    "from sklearn.learning_curve import learning_curve\n",
    "from sklearn import grid_search\n",
    "from sklearn import metrics\n",
    "from sklearn.pipeline import Pipeline\n",
    "from sklearn.grid_search import GridSearchCV\n",
    "\n",
    "\n",
    "%matplotlib inline\n",
    "pd.options.mode.chained_assignment = None"
   ]
  },
  {
   "cell_type": "code",
   "execution_count": 2,
   "metadata": {
    "collapsed": false
   },
   "outputs": [],
   "source": [
    "train = pd.read_csv('../../../data_sfpd/train.csv', parse_dates = ['Dates'])\n",
    "test = pd.read_csv('../../../data_sfpd/test.csv', parse_dates = ['Dates'])"
   ]
  },
  {
   "cell_type": "code",
   "execution_count": 3,
   "metadata": {
    "collapsed": false
   },
   "outputs": [
    {
     "ename": "AttributeError",
     "evalue": "'tuple' object has no attribute 'split'",
     "output_type": "error",
     "traceback": [
      "\u001b[1;31m---------------------------------------------------------------------------\u001b[0m",
      "\u001b[1;31mAttributeError\u001b[0m                            Traceback (most recent call last)",
      "\u001b[1;32m<ipython-input-3-5d25b66cc505>\u001b[0m in \u001b[0;36m<module>\u001b[1;34m()\u001b[0m\n\u001b[1;32m----> 1\u001b[1;33m \u001b[0mtuple\u001b[0m\u001b[1;33m(\u001b[0m\u001b[0mlist\u001b[0m\u001b[1;33m(\u001b[0m\u001b[0mtrain\u001b[0m\u001b[1;33m.\u001b[0m\u001b[0mAddress\u001b[0m\u001b[1;33m)\u001b[0m\u001b[1;33m)\u001b[0m\u001b[1;33m.\u001b[0m\u001b[0msplit\u001b[0m\u001b[1;33m(\u001b[0m\u001b[1;33m)\u001b[0m\u001b[1;33m\u001b[0m\u001b[0m\n\u001b[0m",
      "\u001b[1;31mAttributeError\u001b[0m: 'tuple' object has no attribute 'split'"
     ]
    }
   ],
   "source": []
  },
  {
   "cell_type": "code",
   "execution_count": 34,
   "metadata": {
    "collapsed": false
   },
   "outputs": [
    {
     "data": {
      "text/plain": [
       "0                    OAK ST / LAGUNA ST\n",
       "1                    OAK ST / LAGUNA ST\n",
       "2             VANNESS AV / GREENWICH ST\n",
       "3              1500 Block of LOMBARD ST\n",
       "4             100 Block of BRODERICK ST\n",
       "5                   0 Block of TEDDY AV\n",
       "6                   AVALON AV / PERU AV\n",
       "7              KIRKWOOD AV / DONAHUE ST\n",
       "8                  600 Block of 47TH AV\n",
       "9         JEFFERSON ST / LEAVENWORTH ST\n",
       "10        JEFFERSON ST / LEAVENWORTH ST\n",
       "11                0 Block of ESCOLTA WY\n",
       "12                   TURK ST / JONES ST\n",
       "13               FILLMORE ST / GEARY BL\n",
       "14             200 Block of WILLIAMS AV\n",
       "15                0 Block of MENDELL ST\n",
       "16                   EDDY ST / JONES ST\n",
       "17               GODEUS ST / MISSION ST\n",
       "18               MENDELL ST / HUDSON AV\n",
       "19                100 Block of JONES ST\n",
       "20               200 Block of EVELYN WY\n",
       "21            1600 Block of VALENCIA ST\n",
       "22                100 Block of JONES ST\n",
       "23                100 Block of JONES ST\n",
       "24             FILLMORE ST / LOMBARD ST\n",
       "25             300 Block of OFARRELL ST\n",
       "26                2000 Block of BUSH ST\n",
       "27              500 Block of COLLEGE AV\n",
       "28                19TH AV / SANTIAGO ST\n",
       "29                2000 Block of 41ST AV\n",
       "                      ...              \n",
       "878019               6TH ST / MARKET ST\n",
       "878020            VAN NESS AV / TURK ST\n",
       "878021             SANCHEZ ST / 14TH ST\n",
       "878022             17TH ST / MISSION ST\n",
       "878023            600 Block of ELLIS ST\n",
       "878024       600 Block of DIVISADERO ST\n",
       "878025           NEWHALL ST / GALVEZ AV\n",
       "878026           NEWHALL ST / GALVEZ AV\n",
       "878027           900 Block of MARKET ST\n",
       "878028               6TH ST / MARKET ST\n",
       "878029     1400 Block of GOLDEN GATE AV\n",
       "878030     1400 Block of GOLDEN GATE AV\n",
       "878031              3RD ST / NEWCOMB AV\n",
       "878032           GEARY BL / FRANKLIN ST\n",
       "878033            1000 Block of 22ND AV\n",
       "878034            1000 Block of 22ND AV\n",
       "878035         1300 Block of WEBSTER ST\n",
       "878036         1300 Block of WEBSTER ST\n",
       "878037         1300 Block of WEBSTER ST\n",
       "878038             TAYLOR ST / GEARY ST\n",
       "878039          POLK ST / CALIFORNIA ST\n",
       "878040          2800 Block of FOLSOM ST\n",
       "878041             CLEMENT ST / 14TH AV\n",
       "878042         1500 Block of SHAFTER AV\n",
       "878043         1500 Block of SHAFTER AV\n",
       "878044       FARALLONES ST / CAPITOL AV\n",
       "878045             600 Block of EDNA ST\n",
       "878046               5TH ST / FOLSOM ST\n",
       "878047             TOWNSEND ST / 2ND ST\n",
       "878048         1800 Block of NEWCOMB AV\n",
       "Name: Address, dtype: object"
      ]
     },
     "execution_count": 34,
     "metadata": {},
     "output_type": "execute_result"
    }
   ],
   "source": [
    "train['Address']"
   ]
  },
  {
   "cell_type": "code",
   "execution_count": 4,
   "metadata": {
    "collapsed": false
   },
   "outputs": [
    {
     "data": {
      "text/plain": [
       "0                    [OAK, ST, /, LAGUNA, ST]\n",
       "1                    [OAK, ST, /, LAGUNA, ST]\n",
       "2             [VANNESS, AV, /, GREENWICH, ST]\n",
       "3              [1500, Block, of, LOMBARD, ST]\n",
       "4             [100, Block, of, BRODERICK, ST]\n",
       "5                   [0, Block, of, TEDDY, AV]\n",
       "6                   [AVALON, AV, /, PERU, AV]\n",
       "7              [KIRKWOOD, AV, /, DONAHUE, ST]\n",
       "8                  [600, Block, of, 47TH, AV]\n",
       "9         [JEFFERSON, ST, /, LEAVENWORTH, ST]\n",
       "10        [JEFFERSON, ST, /, LEAVENWORTH, ST]\n",
       "11                [0, Block, of, ESCOLTA, WY]\n",
       "12                   [TURK, ST, /, JONES, ST]\n",
       "13               [FILLMORE, ST, /, GEARY, BL]\n",
       "14             [200, Block, of, WILLIAMS, AV]\n",
       "15                [0, Block, of, MENDELL, ST]\n",
       "16                   [EDDY, ST, /, JONES, ST]\n",
       "17               [GODEUS, ST, /, MISSION, ST]\n",
       "18               [MENDELL, ST, /, HUDSON, AV]\n",
       "19                [100, Block, of, JONES, ST]\n",
       "20               [200, Block, of, EVELYN, WY]\n",
       "21            [1600, Block, of, VALENCIA, ST]\n",
       "22                [100, Block, of, JONES, ST]\n",
       "23                [100, Block, of, JONES, ST]\n",
       "24             [FILLMORE, ST, /, LOMBARD, ST]\n",
       "25             [300, Block, of, OFARRELL, ST]\n",
       "26                [2000, Block, of, BUSH, ST]\n",
       "27              [500, Block, of, COLLEGE, AV]\n",
       "28                [19TH, AV, /, SANTIAGO, ST]\n",
       "29                [2000, Block, of, 41ST, AV]\n",
       "                         ...                 \n",
       "878019               [6TH, ST, /, MARKET, ST]\n",
       "878020           [VAN, NESS, AV, /, TURK, ST]\n",
       "878021             [SANCHEZ, ST, /, 14TH, ST]\n",
       "878022             [17TH, ST, /, MISSION, ST]\n",
       "878023            [600, Block, of, ELLIS, ST]\n",
       "878024       [600, Block, of, DIVISADERO, ST]\n",
       "878025           [NEWHALL, ST, /, GALVEZ, AV]\n",
       "878026           [NEWHALL, ST, /, GALVEZ, AV]\n",
       "878027           [900, Block, of, MARKET, ST]\n",
       "878028               [6TH, ST, /, MARKET, ST]\n",
       "878029    [1400, Block, of, GOLDEN, GATE, AV]\n",
       "878030    [1400, Block, of, GOLDEN, GATE, AV]\n",
       "878031              [3RD, ST, /, NEWCOMB, AV]\n",
       "878032           [GEARY, BL, /, FRANKLIN, ST]\n",
       "878033            [1000, Block, of, 22ND, AV]\n",
       "878034            [1000, Block, of, 22ND, AV]\n",
       "878035         [1300, Block, of, WEBSTER, ST]\n",
       "878036         [1300, Block, of, WEBSTER, ST]\n",
       "878037         [1300, Block, of, WEBSTER, ST]\n",
       "878038             [TAYLOR, ST, /, GEARY, ST]\n",
       "878039          [POLK, ST, /, CALIFORNIA, ST]\n",
       "878040          [2800, Block, of, FOLSOM, ST]\n",
       "878041             [CLEMENT, ST, /, 14TH, AV]\n",
       "878042         [1500, Block, of, SHAFTER, AV]\n",
       "878043         [1500, Block, of, SHAFTER, AV]\n",
       "878044       [FARALLONES, ST, /, CAPITOL, AV]\n",
       "878045             [600, Block, of, EDNA, ST]\n",
       "878046               [5TH, ST, /, FOLSOM, ST]\n",
       "878047             [TOWNSEND, ST, /, 2ND, ST]\n",
       "878048         [1800, Block, of, NEWCOMB, AV]\n",
       "dtype: object"
      ]
     },
     "execution_count": 4,
     "metadata": {},
     "output_type": "execute_result"
    }
   ],
   "source": [
    "train['Address'].str.split(' ')"
   ]
  },
  {
   "cell_type": "code",
   "execution_count": 43,
   "metadata": {
    "collapsed": false
   },
   "outputs": [],
   "source": [
    "street = train['Address'].str.replace('[0-9]* Block of | ST| AV| BL', '', case=False)"
   ]
  },
  {
   "cell_type": "code",
   "execution_count": 49,
   "metadata": {
    "collapsed": false
   },
   "outputs": [],
   "source": [
    "street_clean = street.str.split('/')"
   ]
  },
  {
   "cell_type": "code",
   "execution_count": 68,
   "metadata": {
    "collapsed": false
   },
   "outputs": [],
   "source": [
    "train['Intersection'] = train['Address'].str.find('/')\n",
    "test['Intersection'] = test['Address'].str.find('/')"
   ]
  },
  {
   "cell_type": "code",
   "execution_count": 58,
   "metadata": {
    "collapsed": false
   },
   "outputs": [
    {
     "data": {
      "text/plain": [
       "['Dates',\n",
       " 'Category',\n",
       " 'Descript',\n",
       " 'DayOfWeek',\n",
       " 'PdDistrict',\n",
       " 'Resolution',\n",
       " 'Address',\n",
       " 'X',\n",
       " 'Y',\n",
       " 'Intersection']"
      ]
     },
     "execution_count": 58,
     "metadata": {},
     "output_type": "execute_result"
    }
   ],
   "source": [
    "list(train)"
   ]
  },
  {
   "cell_type": "code",
   "execution_count": 69,
   "metadata": {
    "collapsed": false
   },
   "outputs": [],
   "source": [
    "train['Intersection'][train['Intersection'] != -1] = 1\n",
    "train['Intersection'][train['Intersection'] == -1] = 0\n",
    "test['Intersection'][test['Intersection'] != -1] = 1\n",
    "test['Intersection'][test['Intersection'] == -1] = 0"
   ]
  },
  {
   "cell_type": "code",
   "execution_count": 70,
   "metadata": {
    "collapsed": false
   },
   "outputs": [
    {
     "data": {
      "text/html": [
       "<div>\n",
       "<table border=\"1\" class=\"dataframe\">\n",
       "  <thead>\n",
       "    <tr style=\"text-align: right;\">\n",
       "      <th></th>\n",
       "      <th>Dates</th>\n",
       "      <th>Category</th>\n",
       "      <th>Descript</th>\n",
       "      <th>DayOfWeek</th>\n",
       "      <th>PdDistrict</th>\n",
       "      <th>Resolution</th>\n",
       "      <th>Address</th>\n",
       "      <th>X</th>\n",
       "      <th>Y</th>\n",
       "      <th>Intersection</th>\n",
       "    </tr>\n",
       "  </thead>\n",
       "  <tbody>\n",
       "    <tr>\n",
       "      <th>0</th>\n",
       "      <td>2015-05-13 23:53:00</td>\n",
       "      <td>WARRANTS</td>\n",
       "      <td>WARRANT ARREST</td>\n",
       "      <td>Wednesday</td>\n",
       "      <td>NORTHERN</td>\n",
       "      <td>ARREST, BOOKED</td>\n",
       "      <td>OAK ST / LAGUNA ST</td>\n",
       "      <td>-122.425892</td>\n",
       "      <td>37.774599</td>\n",
       "      <td>1</td>\n",
       "    </tr>\n",
       "    <tr>\n",
       "      <th>1</th>\n",
       "      <td>2015-05-13 23:53:00</td>\n",
       "      <td>OTHER OFFENSES</td>\n",
       "      <td>TRAFFIC VIOLATION ARREST</td>\n",
       "      <td>Wednesday</td>\n",
       "      <td>NORTHERN</td>\n",
       "      <td>ARREST, BOOKED</td>\n",
       "      <td>OAK ST / LAGUNA ST</td>\n",
       "      <td>-122.425892</td>\n",
       "      <td>37.774599</td>\n",
       "      <td>1</td>\n",
       "    </tr>\n",
       "  </tbody>\n",
       "</table>\n",
       "</div>"
      ],
      "text/plain": [
       "                Dates        Category                  Descript  DayOfWeek  \\\n",
       "0 2015-05-13 23:53:00        WARRANTS            WARRANT ARREST  Wednesday   \n",
       "1 2015-05-13 23:53:00  OTHER OFFENSES  TRAFFIC VIOLATION ARREST  Wednesday   \n",
       "\n",
       "  PdDistrict      Resolution             Address           X          Y  \\\n",
       "0   NORTHERN  ARREST, BOOKED  OAK ST / LAGUNA ST -122.425892  37.774599   \n",
       "1   NORTHERN  ARREST, BOOKED  OAK ST / LAGUNA ST -122.425892  37.774599   \n",
       "\n",
       "   Intersection  \n",
       "0             1  \n",
       "1             1  "
      ]
     },
     "execution_count": 70,
     "metadata": {},
     "output_type": "execute_result"
    }
   ],
   "source": [
    "train.head(2)"
   ]
  },
  {
   "cell_type": "code",
   "execution_count": 71,
   "metadata": {
    "collapsed": false
   },
   "outputs": [
    {
     "data": {
      "text/plain": [
       "['Dates',\n",
       " 'Category',\n",
       " 'Descript',\n",
       " 'DayOfWeek',\n",
       " 'PdDistrict',\n",
       " 'Resolution',\n",
       " 'Address',\n",
       " 'X',\n",
       " 'Y',\n",
       " 'Intersection']"
      ]
     },
     "execution_count": 71,
     "metadata": {},
     "output_type": "execute_result"
    }
   ],
   "source": [
    "list(train)"
   ]
  },
  {
   "cell_type": "code",
   "execution_count": 72,
   "metadata": {
    "collapsed": false
   },
   "outputs": [],
   "source": [
    "# data clean up\n",
    "train = train.drop(train['X'] > 40, axis=0)"
   ]
  },
  {
   "cell_type": "code",
   "execution_count": 10,
   "metadata": {
    "collapsed": false
   },
   "outputs": [],
   "source": [
    "category_count = train['Category'].value_counts()"
   ]
  },
  {
   "cell_type": "code",
   "execution_count": 11,
   "metadata": {
    "collapsed": false
   },
   "outputs": [],
   "source": [
    "remove_category = (category_count.keys())[-6::]"
   ]
  },
  {
   "cell_type": "code",
   "execution_count": 12,
   "metadata": {
    "collapsed": false
   },
   "outputs": [
    {
     "name": "stdout",
     "output_type": "stream",
     "text": [
      "BRIBERY 289\n",
      "EXTORTION 256\n",
      "SEX OFFENSES NON FORCIBLE 148\n",
      "GAMBLING 146\n",
      "PORNOGRAPHY/OBSCENE MAT 22\n",
      "TREA 6\n"
     ]
    }
   ],
   "source": [
    "for i in remove_category:\n",
    "    print(i, (train['Category']==i).sum())\n",
    "    train = train[train['Category'] != i]"
   ]
  },
  {
   "cell_type": "code",
   "execution_count": 73,
   "metadata": {
    "collapsed": true
   },
   "outputs": [],
   "source": [
    "X = train.drop(['Category'], axis=1) \n",
    "crime = preprocessing.LabelEncoder()\n",
    "y = crime.fit_transform(train['Category'])"
   ]
  },
  {
   "cell_type": "code",
   "execution_count": 77,
   "metadata": {
    "collapsed": false
   },
   "outputs": [],
   "source": [
    "# create dummies\n",
    "def create_dummies(data):\n",
    "    days = pd.get_dummies(data.DayOfWeek)\n",
    "    district = pd.get_dummies(data.PdDistrict)\n",
    "    hour = data.Dates.dt.hour\n",
    "    data['Morning'] = (hour>= 6) & (hour < 12)\n",
    "    data['Afternoon'] = (hour >= 12) & (hour < 18)\n",
    "    data['Evening'] = (hour >= 18) & (hour < 24)\n",
    "    data['Night'] = (hour < 6)\n",
    "    days = pd.get_dummies(data.DayOfWeek)\n",
    "    district = pd.get_dummies(data.PdDistrict)\n",
    "    return pd.concat([data['Morning'], data['Afternoon'], data['Evening'], \n",
    "                       data['Night'], data['X'], data['Y'], days, data['Intersection'], district],\n",
    "                       axis=1)"
   ]
  },
  {
   "cell_type": "code",
   "execution_count": 78,
   "metadata": {
    "collapsed": false
   },
   "outputs": [],
   "source": [
    "X_clean = create_dummies(X)\n",
    "test_clean = create_dummies(test)"
   ]
  },
  {
   "cell_type": "code",
   "execution_count": null,
   "metadata": {
    "collapsed": true
   },
   "outputs": [],
   "source": [
    "# Logistic Regression\n",
    "pipe = Pipeline([\n",
    "    ('log', LogisticRegression(probability=True)),\n",
    "])\n",
    "param = {\n",
    "    'log__C': np.logspace(-3, 3, 3),\n",
    "}"
   ]
  },
  {
   "cell_type": "code",
   "execution_count": 55,
   "metadata": {
    "collapsed": true
   },
   "outputs": [],
   "source": [
    "# Support Vector Machine\n",
    "pipe = Pipeline([\n",
    "    ('svc', SVC(probability=True)),  #SVC(probability=True)\n",
    "])\n",
    "param = {\n",
    "    #'svc__degree': np.arange(1, 5),\n",
    "    'svc__C': np.logspace(-3, 0, 2),\n",
    "    #'svc__gamma': np.logspace(-3, 3, 10),\n",
    "}\n"
   ]
  },
  {
   "cell_type": "code",
   "execution_count": 37,
   "metadata": {
    "collapsed": false
   },
   "outputs": [],
   "source": [
    "# Random Forest\n",
    "pipe = Pipeline([\n",
    "    ('rf', RandomForestClassifier()),\n",
    "])\n",
    "param = {\n",
    "    #'rf__min_samples_split': np.arange(2, 5),\n",
    "    'rf__min_samples_leaf': np.arange(40, 70, 10),\n",
    "    #'rf__n_estimators': np.arange(10, 200, 10),\n",
    "    #'rf__max_leaf_nodes': np.arange(10, 20),\n",
    "    #'rf__max_features': ('sqrt', 'auto'),\n",
    "}"
   ]
  },
  {
   "cell_type": "code",
   "execution_count": 79,
   "metadata": {
    "collapsed": false
   },
   "outputs": [],
   "source": [
    "# Naive Bayesian\n",
    "from sklearn.naive_bayes import BernoulliNB\n",
    "pipe = Pipeline([\n",
    "    ('bnb', BernoulliNB()),\n",
    "])\n",
    "param = {\n",
    "    'bnb__alpha': np.linspace(0, 1, 10),\n",
    "}"
   ]
  },
  {
   "cell_type": "code",
   "execution_count": null,
   "metadata": {
    "collapsed": false,
    "scrolled": false
   },
   "outputs": [
    {
     "name": "stdout",
     "output_type": "stream",
     "text": [
      "\n",
      "Performing grid search...\n",
      "pipeline: ['bnb']\n",
      "Fitting 5 folds for each of 10 candidates, totalling 50 fits"
     ]
    },
    {
     "name": "stderr",
     "output_type": "stream",
     "text": [
      "[Parallel(n_jobs=-2)]: Done   1 jobs       | elapsed:    4.6s\n",
      "[Parallel(n_jobs=-2)]: Done  32 jobs       | elapsed:  1.3min\n",
      "[Parallel(n_jobs=-2)]: Done  46 out of  50 | elapsed:  1.7min remaining:    8.7s\n",
      "[Parallel(n_jobs=-2)]: Done  50 out of  50 | elapsed:  1.7min finished\n"
     ]
    },
    {
     "name": "stdout",
     "output_type": "stream",
     "text": [
      "\n",
      "\n",
      "Best score: 0.227\n",
      "\n",
      "Best parameters set:\n",
      "\tbnb__alpha: 0.1111111111111111"
     ]
    }
   ],
   "source": [
    "grid_search = GridSearchCV(pipe, param, n_jobs=-2, verbose=3,\n",
    "                           cv=5, refit=True)\n",
    "print(\"\\nPerforming grid search...\")\n",
    "print(\"pipeline:\", [name for name, _ in pipe.steps])\n",
    "grid_search.fit(X_clean, y);\n",
    "print(\"\\nBest score: {:0.3f}\".format(grid_search.best_score_))\n",
    "print(\"\\nBest parameters set:\")\n",
    "best_param = grid_search.best_estimator_.get_params()\n",
    "for param_name in sorted(param.keys()):\n",
    "    print(\"\\t{}: {}\".format(param_name, best_param[param_name]))\n",
    "print('TEST set')\n",
    "y_pred = grid_search.best_estimator_.predict(X_clean)\n",
    "y_proba = grid_search.best_estimator_.predict_proba(X_clean)\n",
    "print(metrics.accuracy_score(y, y_pred))\n",
    "print(y[:5])\n",
    "print(y_pred[:5])\n",
    "print(log_loss(y, y_proba))\n",
    "# 2.2791946 rf__min_samples_leaf: 50"
   ]
  },
  {
   "cell_type": "code",
   "execution_count": 26,
   "metadata": {
    "collapsed": true
   },
   "outputs": [],
   "source": [
    "test = pd.read_csv('../../../data_sfpd/test.csv', parse_dates = ['Dates'])"
   ]
  },
  {
   "cell_type": "code",
   "execution_count": 28,
   "metadata": {
    "collapsed": false
   },
   "outputs": [],
   "source": [
    "crime = preprocessing.LabelEncoder()\n",
    "y_test = crime.fit_transform(train['Category'])"
   ]
  },
  {
   "cell_type": "code",
   "execution_count": 39,
   "metadata": {
    "collapsed": true
   },
   "outputs": [],
   "source": [
    "test_proba = grid_search.best_estimator_.predict_proba(test_clean)"
   ]
  },
  {
   "cell_type": "code",
   "execution_count": 41,
   "metadata": {
    "collapsed": false
   },
   "outputs": [],
   "source": [
    "result=pd.DataFrame(test_proba, columns=crime.classes_)\n",
    "result.to_csv('../../../data_sfpd/result.csv', index = True, index_label = 'Id' )"
   ]
  },
  {
   "cell_type": "code",
   "execution_count": 133,
   "metadata": {
    "collapsed": false
   },
   "outputs": [],
   "source": [
    "P = lrm.predict_proba(X_new)"
   ]
  },
  {
   "cell_type": "code",
   "execution_count": 112,
   "metadata": {
    "collapsed": false
   },
   "outputs": [
    {
     "name": "stdout",
     "output_type": "stream",
     "text": [
      "[ 0  0  0 ..., 38 38 38]\n",
      "0.935168738899\n"
     ]
    }
   ],
   "source": [
    "from sklearn.ensemble import RandomForestClassifier\n",
    "clf = RandomForestClassifier(n_estimators=20, criterion='entropy')\n",
    "clf = clf.fit(X_new, y)\n",
    "class_forest = clf.predict(X_new)\n",
    "print(class_forest)\n",
    "print(accuracy_score(class_forest, y))"
   ]
  },
  {
   "cell_type": "code",
   "execution_count": 113,
   "metadata": {
    "collapsed": false
   },
   "outputs": [
    {
     "name": "stdout",
     "output_type": "stream",
     "text": [
      "[21  0  0 ..., 38 38 38]\n",
      "0.934321007589\n"
     ]
    }
   ],
   "source": [
    "from sklearn.ensemble import RandomForestClassifier\n",
    "clf = RandomForestClassifier(n_estimators=20, criterion='gini')\n",
    "clf = clf.fit(X_new, y)\n",
    "class_forest = clf.predict(X_new)\n",
    "print(class_forest)\n",
    "print(accuracy_score(class_forest, y))"
   ]
  },
  {
   "cell_type": "code",
   "execution_count": 44,
   "metadata": {
    "collapsed": false
   },
   "outputs": [
    {
     "data": {
      "text/plain": [
       "<matplotlib.axes._subplots.AxesSubplot at 0x117e53a90>"
      ]
     },
     "execution_count": 44,
     "metadata": {},
     "output_type": "execute_result"
    },
    {
     "data": {
      "image/png": "[encoded data removed]",
      "text/plain": [
       "<matplotlib.figure.Figure at 0x117b809b0>"
      ]
     },
     "metadata": {},
     "output_type": "display_data"
    }
   ],
   "source": [
    "plt.figure(figsize=(20, 6))\n",
    "sns.countplot(y='Category', data=train)\n",
    "# split"
   ]
  },
  {
   "cell_type": "code",
   "execution_count": 116,
   "metadata": {
    "collapsed": false
   },
   "outputs": [
    {
     "data": {
      "text/plain": [
       "<matplotlib.axes._subplots.AxesSubplot at 0x111f441d0>"
      ]
     },
     "execution_count": 116,
     "metadata": {},
     "output_type": "execute_result"
    },
    {
     "data": {
      "image/png": "[encoded data removed]",
      "text/plain": [
       "<matplotlib.figure.Figure at 0x10b71d898>"
      ]
     },
     "metadata": {},
     "output_type": "display_data"
    }
   ],
   "source": [
    "plt.figure(figsize=(20, 6))\n",
    "sns.countplot(y='PdDistrict', data=train)"
   ]
  },
  {
   "cell_type": "code",
   "execution_count": 117,
   "metadata": {
    "collapsed": false
   },
   "outputs": [
    {
     "data": {
      "text/plain": [
       "<matplotlib.axes._subplots.AxesSubplot at 0x10d144780>"
      ]
     },
     "execution_count": 117,
     "metadata": {},
     "output_type": "execute_result"
    },
    {
     "data": {
      "image/png": "[encoded data removed]",
      "text/plain": [
       "<matplotlib.figure.Figure at 0x11153c7b8>"
      ]
     },
     "metadata": {},
     "output_type": "display_data"
    }
   ],
   "source": [
    "plt.figure(figsize=(20, 6))\n",
    "sns.countplot('DayOfWeek', data=train)"
   ]
  },
  {
   "cell_type": "code",
   "execution_count": null,
   "metadata": {
    "collapsed": true
   },
   "outputs": [],
   "source": []
  },
  {
   "cell_type": "code",
   "execution_count": 120,
   "metadata": {
    "collapsed": false,
    "scrolled": true
   },
   "outputs": [
    {
     "data": {
      "text/plain": [
       "<seaborn.axisgrid.JointGrid at 0x10d049048>"
      ]
     },
     "execution_count": 120,
     "metadata": {},
     "output_type": "execute_result"
    },
    {
     "data": {
      "image/png": "[encoded data removed]",
      "text/plain": [
       "<matplotlib.figure.Figure at 0x10d0490f0>"
      ]
     },
     "metadata": {},
     "output_type": "display_data"
    }
   ],
   "source": [
    "sns.jointplot(x=train['X'], y=train['Y'], kind=\"kde\", color=\"k\")"
   ]
  }
 ],
 "metadata": {
  "kernelspec": {
   "display_name": "Python 3",
   "language": "python",
   "name": "python3"
  },
  "language_info": {
   "codemirror_mode": {
    "name": "ipython",
    "version": 3
   },
   "file_extension": ".py",
   "mimetype": "text/x-python",
   "name": "python",
   "nbconvert_exporter": "python",
   "pygments_lexer": "ipython3",
   "version": "3.4.2"
  }
 },
 "nbformat": 4,
 "nbformat_minor": 0
}
