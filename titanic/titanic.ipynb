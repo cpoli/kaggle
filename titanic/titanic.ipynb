{
 "cells": [
  {
   "cell_type": "markdown",
   "metadata": {},
   "source": [
    "# TITANIC - KAGGLE PROJECT\n",
    "\n",
    "https://www.kaggle.com/c/titanic/"
   ]
  },
  {
   "cell_type": "code",
   "execution_count": 1,
   "metadata": {
    "collapsed": false
   },
   "outputs": [],
   "source": [
    "import pandas as pd\n",
    "from pandas import Series, DataFrame\n",
    "import numpy as np\n",
    "import matplotlib.pyplot as plt\n",
    "import seaborn as sns\n",
    "sns.set_style('whitegrid')\n",
    "%matplotlib inline\n",
    "import csv as csv\n",
    "\n",
    "# Machine Learning imports\n",
    "from sklearn.linear_model import LinearRegression\n",
    "from sklearn.linear_model import Ridge\n",
    "from sklearn.linear_model import LogisticRegression\n",
    "from sklearn.svm import SVR\n",
    "from sklearn.svm import SVC\n",
    "from sklearn.neighbors import KNeighborsClassifier\n",
    "from sklearn.ensemble import RandomForestClassifier\n",
    "\n",
    "from sklearn.cross_validation import train_test_split\n",
    "from sklearn.learning_curve import learning_curve\n",
    "from sklearn import grid_search\n",
    "from sklearn import metrics\n",
    "from sklearn.pipeline import Pipeline\n",
    "from sklearn.grid_search import GridSearchCV"
   ]
  },
  {
   "cell_type": "markdown",
   "metadata": {},
   "source": [
    "## Get Missing Age Variable: fitting"
   ]
  },
  {
   "cell_type": "code",
   "execution_count": 87,
   "metadata": {
    "collapsed": false
   },
   "outputs": [],
   "source": [
    "trainA_df = pd.read_csv('train.csv')\n",
    "testA_df = pd.read_csv('test.csv')\n",
    "trainA_df.drop(['Name', 'Ticket', 'Cabin', 'Embarked',\n",
    "               'PassengerId', 'Survived'], axis=1, inplace=True)\n",
    "testA_df.drop(['Name', 'Ticket', 'Cabin', 'Embarked',\n",
    "              'PassengerId'], axis=1, inplace=True)"
   ]
  },
  {
   "cell_type": "code",
   "execution_count": 88,
   "metadata": {
    "collapsed": false
   },
   "outputs": [],
   "source": [
    "# Fare\n",
    "for c in [1, 2, 3]:\n",
    "    testA_df.loc[(testA_df['Pclass'] == c) & (testA_df['Fare'].isnull()), 'Fare'] = \\\n",
    "    testA_df.loc[(testA_df['Pclass'] == c), 'Fare'].median()"
   ]
  },
  {
   "cell_type": "code",
   "execution_count": 89,
   "metadata": {
    "collapsed": false
   },
   "outputs": [],
   "source": [
    "col_names = {'Sex', 'Pclass'}\n",
    "for name in col_names:\n",
    "    dummies = pd.get_dummies(testA_df[name])\n",
    "    testA_df = pd.concat([testA_df, dummies], axis=1)\n",
    "    testA_df.drop([name], axis=1, inplace=True)\n",
    "for name in col_names:\n",
    "    dummies = pd.get_dummies(trainA_df[name])\n",
    "    trainA_df = pd.concat([trainA_df, dummies], axis=1)\n",
    "    trainA_df.drop([name], axis=1, inplace=True)"
   ]
  },
  {
   "cell_type": "code",
   "execution_count": 90,
   "metadata": {
    "collapsed": false
   },
   "outputs": [],
   "source": [
    "df = pd.concat([trainA_df, testA_df], axis=0)\n",
    "\n",
    "X = df[df['Age'].notnull()]\n",
    "y = df[df['Age'].notnull()]['Age']\n",
    "X = X.drop(['Age'], axis=1)"
   ]
  },
  {
   "cell_type": "code",
   "execution_count": 91,
   "metadata": {
    "collapsed": false
   },
   "outputs": [
    {
     "data": {
      "text/html": [
       "<div>\n",
       "<table border=\"1\" class=\"dataframe\">\n",
       "  <thead>\n",
       "    <tr style=\"text-align: right;\">\n",
       "      <th></th>\n",
       "      <th>SibSp</th>\n",
       "      <th>Parch</th>\n",
       "      <th>Fare</th>\n",
       "      <th>1</th>\n",
       "      <th>2</th>\n",
       "      <th>3</th>\n",
       "      <th>female</th>\n",
       "      <th>male</th>\n",
       "    </tr>\n",
       "  </thead>\n",
       "  <tbody>\n",
       "    <tr>\n",
       "      <th>0</th>\n",
       "      <td>1</td>\n",
       "      <td>0</td>\n",
       "      <td>7.2500</td>\n",
       "      <td>0</td>\n",
       "      <td>0</td>\n",
       "      <td>1</td>\n",
       "      <td>0</td>\n",
       "      <td>1</td>\n",
       "    </tr>\n",
       "    <tr>\n",
       "      <th>1</th>\n",
       "      <td>1</td>\n",
       "      <td>0</td>\n",
       "      <td>71.2833</td>\n",
       "      <td>1</td>\n",
       "      <td>0</td>\n",
       "      <td>0</td>\n",
       "      <td>1</td>\n",
       "      <td>0</td>\n",
       "    </tr>\n",
       "    <tr>\n",
       "      <th>2</th>\n",
       "      <td>0</td>\n",
       "      <td>0</td>\n",
       "      <td>7.9250</td>\n",
       "      <td>0</td>\n",
       "      <td>0</td>\n",
       "      <td>1</td>\n",
       "      <td>1</td>\n",
       "      <td>0</td>\n",
       "    </tr>\n",
       "    <tr>\n",
       "      <th>3</th>\n",
       "      <td>1</td>\n",
       "      <td>0</td>\n",
       "      <td>53.1000</td>\n",
       "      <td>1</td>\n",
       "      <td>0</td>\n",
       "      <td>0</td>\n",
       "      <td>1</td>\n",
       "      <td>0</td>\n",
       "    </tr>\n",
       "    <tr>\n",
       "      <th>4</th>\n",
       "      <td>0</td>\n",
       "      <td>0</td>\n",
       "      <td>8.0500</td>\n",
       "      <td>0</td>\n",
       "      <td>0</td>\n",
       "      <td>1</td>\n",
       "      <td>0</td>\n",
       "      <td>1</td>\n",
       "    </tr>\n",
       "  </tbody>\n",
       "</table>\n",
       "</div>"
      ],
      "text/plain": [
       "   SibSp  Parch     Fare  1  2  3  female  male\n",
       "0      1      0   7.2500  0  0  1       0     1\n",
       "1      1      0  71.2833  1  0  0       1     0\n",
       "2      0      0   7.9250  0  0  1       1     0\n",
       "3      1      0  53.1000  1  0  0       1     0\n",
       "4      0      0   8.0500  0  0  1       0     1"
      ]
     },
     "execution_count": 91,
     "metadata": {},
     "output_type": "execute_result"
    }
   ],
   "source": [
    "X.head()"
   ]
  },
  {
   "cell_type": "code",
   "execution_count": 92,
   "metadata": {
    "collapsed": false
   },
   "outputs": [],
   "source": [
    "pipeline = Pipeline([\n",
    "    ('ridge', Ridge()),\n",
    "])\n",
    "\n",
    "parameters = {\n",
    "    'ridge__alpha': np.logspace(-10, 10, 500),\n",
    "}"
   ]
  },
  {
   "cell_type": "code",
   "execution_count": 93,
   "metadata": {
    "collapsed": true
   },
   "outputs": [],
   "source": [
    "grid_search = GridSearchCV(pipeline, parameters, n_jobs=-2, \n",
    "                           verbose=1, refit=True, cv=2)"
   ]
  },
  {
   "cell_type": "code",
   "execution_count": 94,
   "metadata": {
    "collapsed": false
   },
   "outputs": [
    {
     "name": "stdout",
     "output_type": "stream",
     "text": [
      "\n",
      "Performing grid search...\n",
      "pipeline: ['ridge']\n",
      "Fitting 2 folds for each of 500 candidates, totalling 1000 fits\n"
     ]
    },
    {
     "name": "stderr",
     "output_type": "stream",
     "text": [
      "[Parallel(n_jobs=-2)]: Done   1 jobs       | elapsed:    0.0s\n",
      "[Parallel(n_jobs=-2)]: Done  50 jobs       | elapsed:    0.3s\n",
      "[Parallel(n_jobs=-2)]: Done 200 jobs       | elapsed:    1.0s\n",
      "[Parallel(n_jobs=-2)]: Done 450 jobs       | elapsed:    2.5s\n",
      "[Parallel(n_jobs=-2)]: Done 800 jobs       | elapsed:    4.3s\n",
      "[Parallel(n_jobs=-2)]: Done 1000 out of 1000 | elapsed:    5.4s finished\n"
     ]
    }
   ],
   "source": [
    "print(\"\\nPerforming grid search...\")\n",
    "print(\"pipeline:\", [name for name, _ in pipeline.steps])\n",
    "#print(\"parameters:\")\n",
    "#print(parameters)\n",
    "grid_search.fit(X, y);"
   ]
  },
  {
   "cell_type": "code",
   "execution_count": 95,
   "metadata": {
    "collapsed": false
   },
   "outputs": [
    {
     "name": "stdout",
     "output_type": "stream",
     "text": [
      "\n",
      "Best score: 0.193\n",
      "\n",
      "Best parameters set:\n",
      "\tridge__alpha: 10.520686710236228\n"
     ]
    }
   ],
   "source": [
    "print(\"\\nBest score: {:0.3f}\".format(grid_search.best_score_))\n",
    "print(\"\\nBest parameters set:\")\n",
    "best_parameters = grid_search.best_estimator_.get_params()\n",
    "for param_name in sorted(parameters.keys()):\n",
    "    print(\"\\t{}: {}\".format(param_name, best_parameters[param_name]))"
   ]
  },
  {
   "cell_type": "code",
   "execution_count": 96,
   "metadata": {
    "collapsed": false
   },
   "outputs": [],
   "source": [
    "test1_df = trainA_df[trainA_df['Age'].isnull()]\n",
    "test1_df = test1_df.drop(['Age'], axis=1)\n",
    "test2_df = testA_df[testA_df['Age'].isnull()]\n",
    "test2_df = test2_df.drop(['Age'], axis=1)"
   ]
  },
  {
   "cell_type": "code",
   "execution_count": 97,
   "metadata": {
    "collapsed": false
   },
   "outputs": [],
   "source": [
    "res1 = grid_search.best_estimator_.predict(test1_df)\n",
    "res2 = grid_search.best_estimator_.predict(test2_df)"
   ]
  },
  {
   "cell_type": "markdown",
   "metadata": {
    "collapsed": true
   },
   "source": [
    "## Predict Survival"
   ]
  },
  {
   "cell_type": "code",
   "execution_count": 123,
   "metadata": {
    "collapsed": true
   },
   "outputs": [],
   "source": [
    "train_df = pd.read_csv('train.csv')\n",
    "test_df = pd.read_csv('test.csv')"
   ]
  },
  {
   "cell_type": "code",
   "execution_count": 99,
   "metadata": {
    "collapsed": false
   },
   "outputs": [],
   "source": [
    "# Keep Cabin and Embarked\n",
    "train_df.drop(['Name', 'Ticket', 'PassengerId'], axis=1, inplace=True)\n",
    "ids_test = test_df['PassengerId'].values\n",
    "test_df.drop(['Name', 'Ticket', 'PassengerId'], axis=1, inplace=True)"
   ]
  },
  {
   "cell_type": "code",
   "execution_count": 124,
   "metadata": {
    "collapsed": true
   },
   "outputs": [],
   "source": [
    "# Remove Cabin and Embarked\n",
    "train_df.drop(['Name', 'Ticket', 'Cabin', 'Embarked',\n",
    "               'PassengerId'], axis=1, inplace=True)\n",
    "test_df.drop(['Name', 'Ticket', 'Cabin', 'Embarked',\n",
    "              'PassengerId'], axis=1, inplace=True)"
   ]
  },
  {
   "cell_type": "code",
   "execution_count": 125,
   "metadata": {
    "collapsed": false
   },
   "outputs": [],
   "source": [
    "train_df.loc[train_df['Age'].isnull(), 'Age'] = res1\n",
    "test_df.loc[test_df['Age'].isnull(), 'Age'] = res2"
   ]
  },
  {
   "cell_type": "code",
   "execution_count": 126,
   "metadata": {
    "collapsed": false
   },
   "outputs": [
    {
     "data": {
      "text/html": [
       "<div>\n",
       "<table border=\"1\" class=\"dataframe\">\n",
       "  <thead>\n",
       "    <tr style=\"text-align: right;\">\n",
       "      <th></th>\n",
       "      <th>Survived</th>\n",
       "      <th>Pclass</th>\n",
       "      <th>Sex</th>\n",
       "      <th>Age</th>\n",
       "      <th>SibSp</th>\n",
       "      <th>Parch</th>\n",
       "      <th>Fare</th>\n",
       "    </tr>\n",
       "  </thead>\n",
       "  <tbody>\n",
       "    <tr>\n",
       "      <th>0</th>\n",
       "      <td>0</td>\n",
       "      <td>3</td>\n",
       "      <td>male</td>\n",
       "      <td>22</td>\n",
       "      <td>1</td>\n",
       "      <td>0</td>\n",
       "      <td>7.2500</td>\n",
       "    </tr>\n",
       "    <tr>\n",
       "      <th>1</th>\n",
       "      <td>1</td>\n",
       "      <td>1</td>\n",
       "      <td>female</td>\n",
       "      <td>38</td>\n",
       "      <td>1</td>\n",
       "      <td>0</td>\n",
       "      <td>71.2833</td>\n",
       "    </tr>\n",
       "    <tr>\n",
       "      <th>2</th>\n",
       "      <td>1</td>\n",
       "      <td>3</td>\n",
       "      <td>female</td>\n",
       "      <td>26</td>\n",
       "      <td>0</td>\n",
       "      <td>0</td>\n",
       "      <td>7.9250</td>\n",
       "    </tr>\n",
       "    <tr>\n",
       "      <th>3</th>\n",
       "      <td>1</td>\n",
       "      <td>1</td>\n",
       "      <td>female</td>\n",
       "      <td>35</td>\n",
       "      <td>1</td>\n",
       "      <td>0</td>\n",
       "      <td>53.1000</td>\n",
       "    </tr>\n",
       "    <tr>\n",
       "      <th>4</th>\n",
       "      <td>0</td>\n",
       "      <td>3</td>\n",
       "      <td>male</td>\n",
       "      <td>35</td>\n",
       "      <td>0</td>\n",
       "      <td>0</td>\n",
       "      <td>8.0500</td>\n",
       "    </tr>\n",
       "  </tbody>\n",
       "</table>\n",
       "</div>"
      ],
      "text/plain": [
       "   Survived  Pclass     Sex  Age  SibSp  Parch     Fare\n",
       "0         0       3    male   22      1      0   7.2500\n",
       "1         1       1  female   38      1      0  71.2833\n",
       "2         1       3  female   26      0      0   7.9250\n",
       "3         1       1  female   35      1      0  53.1000\n",
       "4         0       3    male   35      0      0   8.0500"
      ]
     },
     "execution_count": 126,
     "metadata": {},
     "output_type": "execute_result"
    }
   ],
   "source": [
    "train_df.head()"
   ]
  },
  {
   "cell_type": "code",
   "execution_count": 127,
   "metadata": {
    "collapsed": true
   },
   "outputs": [],
   "source": [
    "# Fare\n",
    "for c in [1, 2, 3]:\n",
    "    test_df.loc[(test_df['Pclass'] == c) & (test_df['Fare'].isnull()), 'Fare'] = \\\n",
    "    test_df.loc[(test_df['Pclass'] == c), 'Fare'].median()"
   ]
  },
  {
   "cell_type": "code",
   "execution_count": 103,
   "metadata": {
    "collapsed": false
   },
   "outputs": [],
   "source": [
    "# get Cabin first character\n",
    "def clean_cabin(cab):\n",
    "    try:\n",
    "        return cab[0]\n",
    "    except TypeError:\n",
    "        return 'None'\n",
    "train_df['Cabin'] = train_df['Cabin'].apply(clean_cabin)\n",
    "test_df['Cabin'] = train_df['Cabin'].apply(clean_cabin)\n",
    "\n",
    "col_names = {'Cabin', 'Embarked'}\n",
    "for name in col_names:\n",
    "    train_df[name].fillna('None')\n",
    "    dummies = pd.get_dummies(train_df[name])\n",
    "    train_df = pd.concat([train_df, dummies], axis=1)\n",
    "    train_df.drop([name], axis=1, inplace=True)\n",
    "for name in col_names:\n",
    "    test_df[name].fillna('None')\n",
    "    dummies = pd.get_dummies(test_df[name])\n",
    "    test_df = pd.concat([test_df, dummies], axis=1)\n",
    "    test_df.drop([name], axis=1, inplace=True)"
   ]
  },
  {
   "cell_type": "code",
   "execution_count": 128,
   "metadata": {
    "collapsed": false
   },
   "outputs": [
    {
     "name": "stdout",
     "output_type": "stream",
     "text": [
      "Survived    0\n",
      "Pclass      0\n",
      "Sex         0\n",
      "Age         0\n",
      "SibSp       0\n",
      "Parch       0\n",
      "Fare        0\n",
      "dtype: int64\n",
      "Pclass    0\n",
      "Sex       0\n",
      "Age       0\n",
      "SibSp     0\n",
      "Parch     0\n",
      "Fare      0\n",
      "dtype: int64\n"
     ]
    }
   ],
   "source": [
    "# Check # missing value\n",
    "print(train_df.isnull().sum())\n",
    "print(test_df.isnull().sum())"
   ]
  },
  {
   "cell_type": "code",
   "execution_count": 129,
   "metadata": {
    "collapsed": false
   },
   "outputs": [],
   "source": [
    "train_df.loc[train_df['Sex'] == 'female', 'Person'] = 'female'\n",
    "train_df.loc[train_df['Sex'] == 'male', 'Person'] = 'male'\n",
    "train_df.loc[train_df['Age'] < 16, 'Person'] = 'child'\n",
    "train_df.drop('Sex', axis=1, inplace=True)\n",
    "test_df.loc[test_df['Sex'] == 'female', 'Person'] = 'female'\n",
    "test_df.loc[test_df['Sex'] == 'male', 'Person'] = 'male'\n",
    "test_df.loc[test_df['Age'] < 16, 'Person'] = 'child'\n",
    "test_df.drop('Sex', axis=1, inplace=True)"
   ]
  },
  {
   "cell_type": "code",
   "execution_count": 130,
   "metadata": {
    "collapsed": false
   },
   "outputs": [],
   "source": [
    "col_names = {'Person', 'Pclass'}\n",
    "for name in col_names:\n",
    "    dummies = pd.get_dummies(train_df[name])\n",
    "    train_df = pd.concat([train_df, dummies], axis=1)\n",
    "    train_df.drop([name], axis=1, inplace=True)\n",
    "for name in col_names:\n",
    "    dummies = pd.get_dummies(test_df[name])\n",
    "    test_df = pd.concat([test_df, dummies], axis=1)\n",
    "    test_df.drop([name], axis=1, inplace=True)"
   ]
  },
  {
   "cell_type": "code",
   "execution_count": 131,
   "metadata": {
    "collapsed": false
   },
   "outputs": [],
   "source": [
    "X = train_df.drop('Survived', axis=1)\n",
    "y = train_df['Survived']"
   ]
  },
  {
   "cell_type": "code",
   "execution_count": 132,
   "metadata": {
    "collapsed": true
   },
   "outputs": [],
   "source": [
    "X_train, X_test, y_train, y_test = train_test_split(X, y)"
   ]
  },
  {
   "cell_type": "markdown",
   "metadata": {},
   "source": [
    "### Cross validation"
   ]
  },
  {
   "cell_type": "code",
   "execution_count": 171,
   "metadata": {
    "collapsed": false
   },
   "outputs": [],
   "source": [
    "pipeline = Pipeline([\n",
    "    ('rf', RandomForestClassifier()),\n",
    "])\n",
    "\n",
    "parameters = {\n",
    "    'rf__n_estimators': np.arange(10, 20),\n",
    "    'rf__max_leaf_nodes': np.arange(10, 20),\n",
    "    'rf__criterion': ('entropy', 'gini')\n",
    "}\n"
   ]
  },
  {
   "cell_type": "code",
   "execution_count": 172,
   "metadata": {
    "collapsed": true
   },
   "outputs": [],
   "source": [
    "grid_search = GridSearchCV(pipeline, parameters, n_jobs=-2, verbose=1,\n",
    "                           cv=5, refit=True)"
   ]
  },
  {
   "cell_type": "code",
   "execution_count": 173,
   "metadata": {
    "collapsed": false,
    "scrolled": true
   },
   "outputs": [
    {
     "name": "stdout",
     "output_type": "stream",
     "text": [
      "\n",
      "Performing grid search...\n",
      "pipeline: ['rf']\n",
      "Fitting 5 folds for each of 2888 candidates, totalling 14440 fits\n"
     ]
    },
    {
     "name": "stderr",
     "output_type": "stream",
     "text": [
      "[Parallel(n_jobs=-2)]: Done   1 jobs       | elapsed:    0.0s\n",
      "[Parallel(n_jobs=-2)]: Done  50 jobs       | elapsed:    0.6s\n",
      "[Parallel(n_jobs=-2)]: Done 200 jobs       | elapsed:    5.2s\n",
      "[Parallel(n_jobs=-2)]: Done 450 jobs       | elapsed:   10.6s\n",
      "[Parallel(n_jobs=-2)]: Done 800 jobs       | elapsed:   19.3s\n",
      "[Parallel(n_jobs=-2)]: Done 1250 jobs       | elapsed:   30.1s\n",
      "[Parallel(n_jobs=-2)]: Done 1800 jobs       | elapsed:   46.4s\n",
      "[Parallel(n_jobs=-2)]: Done 2450 jobs       | elapsed:  1.1min\n",
      "[Parallel(n_jobs=-2)]: Done 3200 jobs       | elapsed:  1.5min\n",
      "[Parallel(n_jobs=-2)]: Done 4050 jobs       | elapsed:  2.0min\n",
      "[Parallel(n_jobs=-2)]: Done 5000 jobs       | elapsed:  2.5min\n",
      "[Parallel(n_jobs=-2)]: Done 6050 jobs       | elapsed:  3.0min\n",
      "[Parallel(n_jobs=-2)]: Done 7200 jobs       | elapsed:  3.5min\n",
      "[Parallel(n_jobs=-2)]: Done 8450 jobs       | elapsed:  4.0min\n",
      "[Parallel(n_jobs=-2)]: Done 9800 jobs       | elapsed:  4.5min\n",
      "[Parallel(n_jobs=-2)]: Done 11250 jobs       | elapsed:  5.1min\n",
      "[Parallel(n_jobs=-2)]: Done 12800 jobs       | elapsed:  5.8min\n",
      "[Parallel(n_jobs=-2)]: Done 14436 out of 14440 | elapsed:  6.5min remaining:    0.1s\n",
      "[Parallel(n_jobs=-2)]: Done 14440 out of 14440 | elapsed:  6.5min finished\n"
     ]
    }
   ],
   "source": [
    "print(\"\\nPerforming grid search...\")\n",
    "print(\"pipeline:\", [name for name, _ in pipeline.steps])\n",
    "grid_search.fit(X_train, y_train);"
   ]
  },
  {
   "cell_type": "code",
   "execution_count": 174,
   "metadata": {
    "collapsed": false
   },
   "outputs": [
    {
     "name": "stdout",
     "output_type": "stream",
     "text": [
      "\n",
      "Best score: 0.825\n",
      "\n",
      "Best parameters set:\n",
      "\trf__criterion: entropy\n",
      "\trf__max_leaf_nodes: 24\n",
      "\trf__n_estimators: 9\n"
     ]
    }
   ],
   "source": [
    "print(\"\\nBest score: {:0.3f}\".format(grid_search.best_score_))\n",
    "print(\"\\nBest parameters set:\")\n",
    "best_parameters = grid_search.best_estimator_.get_params()\n",
    "for param_name in sorted(parameters.keys()):\n",
    "    print(\"\\t{}: {}\".format(param_name, best_parameters[param_name]))\n"
   ]
  },
  {
   "cell_type": "code",
   "execution_count": 210,
   "metadata": {
    "collapsed": false
   },
   "outputs": [
    {
     "name": "stdout",
     "output_type": "stream",
     "text": [
      "0.84880239521\n"
     ]
    }
   ],
   "source": [
    "grid_search.best_estimator_.predict(X_train)\n",
    "print(metrics.accuracy_score(y_train, grid_search.best_estimator_.predict(X_train)))"
   ]
  },
  {
   "cell_type": "markdown",
   "metadata": {},
   "source": [
    "### Learning Curve"
   ]
  },
  {
   "cell_type": "code",
   "execution_count": 207,
   "metadata": {
    "collapsed": false
   },
   "outputs": [
    {
     "name": "stdout",
     "output_type": "stream",
     "text": [
      "[100 200 300 400 500 600 700]\n"
     ]
    }
   ],
   "source": [
    "train_sizes = [100, 200, 300, 400, 500, 600, 700]\n",
    "train_sizes, train_scores, test_scores = learning_curve(\n",
    "grid_search.best_estimator_, X, y, \n",
    "    train_sizes=train_sizes, cv=10)\n",
    "print(train_sizes)\n",
    "train_scores_mean = np.mean(train_scores, axis=1)\n",
    "train_scores_std = np.std(train_scores, axis=1)\n",
    "test_scores_mean = np.mean(test_scores, axis=1)\n",
    "test_scores_std = np.std(test_scores, axis=1)"
   ]
  },
  {
   "cell_type": "code",
   "execution_count": 208,
   "metadata": {
    "collapsed": false
   },
   "outputs": [
    {
     "data": {
      "text/plain": [
       "[<matplotlib.lines.Line2D at 0x1159e8080>]"
      ]
     },
     "execution_count": 208,
     "metadata": {},
     "output_type": "execute_result"
    },
    {
     "data": {
      "image/png": "[encoded data removed]",
      "text/plain": [
       "<matplotlib.figure.Figure at 0x11574e940>"
      ]
     },
     "metadata": {},
     "output_type": "display_data"
    }
   ],
   "source": [
    "plt.fill_between(train_sizes, train_scores_mean - train_scores_std,\n",
    "                 train_scores_mean + train_scores_std, alpha=0.1,\n",
    "                 color=\"r\")\n",
    "plt.fill_between(train_sizes, test_scores_mean - test_scores_std,\n",
    "                test_scores_mean + test_scores_std, alpha=0.1, \n",
    "                 color=\"g\")\n",
    "plt.plot(train_sizes, train_scores_mean, 'o-', color=\"r\",\n",
    "        label=\"Training score\")\n",
    "plt.plot(train_sizes, test_scores_mean, 'o-', color=\"g\",\n",
    "        label=\"Cross-validation score\")"
   ]
  },
  {
   "cell_type": "markdown",
   "metadata": {},
   "source": [
    "### Get csv file"
   ]
  },
  {
   "cell_type": "code",
   "execution_count": 178,
   "metadata": {
    "collapsed": false
   },
   "outputs": [],
   "source": [
    "res = grid_search.best_estimator_.predict(test_df)\n",
    "titanic_file = open('rfm.csv', 'wt')\n",
    "open_file_object = csv.writer(titanic_file)\n",
    "open_file_object.writerow(['PassengerId','Survived'])\n",
    "open_file_object.writerows(zip(ids_test.T, res.T))\n",
    "titanic_file.close()"
   ]
  },
  {
   "cell_type": "code",
   "execution_count": null,
   "metadata": {
    "collapsed": true
   },
   "outputs": [],
   "source": []
  }
 ],
 "metadata": {
  "kernelspec": {
   "display_name": "Python 3",
   "language": "python",
   "name": "python3"
  },
  "language_info": {
   "codemirror_mode": {
    "name": "ipython",
    "version": 3
   },
   "file_extension": ".py",
   "mimetype": "text/x-python",
   "name": "python",
   "nbconvert_exporter": "python",
   "pygments_lexer": "ipython3",
   "version": "3.4.3"
  }
 },
 "nbformat": 4,
 "nbformat_minor": 0
}
