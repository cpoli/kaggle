{
 "cells": [
  {
   "cell_type": "markdown",
   "metadata": {},
   "source": [
    "# TITANIC - KAGGLE PROJECT\n",
    "\n",
    "https://www.kaggle.com/c/titanic/"
   ]
  },
  {
   "cell_type": "code",
   "execution_count": 1,
   "metadata": {
    "collapsed": false
   },
   "outputs": [],
   "source": [
    "import pandas as pd\n",
    "import numpy as np\n",
    "import matplotlib.pyplot as plt\n",
    "import seaborn as sns\n",
    "sns.set_style('whitegrid')\n",
    "%matplotlib inline\n",
    "import csv as csv\n",
    "\n",
    "# Machine Learning imports\n",
    "from sklearn.linear_model import LinearRegression\n",
    "from sklearn.linear_model import Ridge\n",
    "from sklearn.linear_model import Lasso\n",
    "from sklearn.linear_model import LogisticRegression\n",
    "from sklearn.svm import SVR\n",
    "from sklearn.svm import SVC\n",
    "from sklearn.neighbors import KNeighborsClassifier\n",
    "from sklearn.ensemble import RandomForestClassifier\n",
    "from sklearn.ensemble import ExtraTreesClassifier\n",
    "from sklearn.tree import DecisionTreeClassifier\n",
    "\n",
    "from sklearn.cross_validation import train_test_split\n",
    "from sklearn.learning_curve import learning_curve\n",
    "from sklearn import grid_search\n",
    "from sklearn import metrics\n",
    "from sklearn.pipeline import Pipeline\n",
    "from sklearn.grid_search import GridSearchCV"
   ]
  },
  {
   "cell_type": "code",
   "execution_count": 2,
   "metadata": {
    "collapsed": false
   },
   "outputs": [],
   "source": [
    "train = pd.read_csv('../Documents/data_titanic/train.csv')\n",
    "test = pd.read_csv('../Documents/data_titanic/test.csv')\n",
    "train.drop(['PassengerId'], axis=1, inplace=True)\n",
    "ids_test = test['PassengerId']\n",
    "test.drop(['PassengerId'], axis=1, inplace=True)"
   ]
  },
  {
   "cell_type": "code",
   "execution_count": 3,
   "metadata": {
    "collapsed": false
   },
   "outputs": [
    {
     "data": {
      "text/html": [
       "<div>\n",
       "<table border=\"1\" class=\"dataframe\">\n",
       "  <thead>\n",
       "    <tr style=\"text-align: right;\">\n",
       "      <th></th>\n",
       "      <th>Survived</th>\n",
       "      <th>Pclass</th>\n",
       "      <th>Name</th>\n",
       "      <th>Sex</th>\n",
       "      <th>Age</th>\n",
       "      <th>SibSp</th>\n",
       "      <th>Parch</th>\n",
       "      <th>Ticket</th>\n",
       "      <th>Fare</th>\n",
       "      <th>Cabin</th>\n",
       "      <th>Embarked</th>\n",
       "    </tr>\n",
       "  </thead>\n",
       "  <tbody>\n",
       "    <tr>\n",
       "      <th>0</th>\n",
       "      <td>0</td>\n",
       "      <td>3</td>\n",
       "      <td>Braund, Mr. Owen Harris</td>\n",
       "      <td>male</td>\n",
       "      <td>22</td>\n",
       "      <td>1</td>\n",
       "      <td>0</td>\n",
       "      <td>A/5 21171</td>\n",
       "      <td>7.2500</td>\n",
       "      <td>NaN</td>\n",
       "      <td>S</td>\n",
       "    </tr>\n",
       "    <tr>\n",
       "      <th>1</th>\n",
       "      <td>1</td>\n",
       "      <td>1</td>\n",
       "      <td>Cumings, Mrs. John Bradley (Florence Briggs Th...</td>\n",
       "      <td>female</td>\n",
       "      <td>38</td>\n",
       "      <td>1</td>\n",
       "      <td>0</td>\n",
       "      <td>PC 17599</td>\n",
       "      <td>71.2833</td>\n",
       "      <td>C85</td>\n",
       "      <td>C</td>\n",
       "    </tr>\n",
       "  </tbody>\n",
       "</table>\n",
       "</div>"
      ],
      "text/plain": [
       "   Survived  Pclass                                               Name  \\\n",
       "0         0       3                            Braund, Mr. Owen Harris   \n",
       "1         1       1  Cumings, Mrs. John Bradley (Florence Briggs Th...   \n",
       "\n",
       "      Sex  Age  SibSp  Parch     Ticket     Fare Cabin Embarked  \n",
       "0    male   22      1      0  A/5 21171   7.2500   NaN        S  \n",
       "1  female   38      1      0   PC 17599  71.2833   C85        C  "
      ]
     },
     "execution_count": 3,
     "metadata": {},
     "output_type": "execute_result"
    }
   ],
   "source": [
    "train.head(2)"
   ]
  },
  {
   "cell_type": "markdown",
   "metadata": {},
   "source": [
    "## Data Visualization"
   ]
  },
  {
   "cell_type": "markdown",
   "metadata": {},
   "source": [
    "### Age"
   ]
  },
  {
   "cell_type": "code",
   "execution_count": 4,
   "metadata": {
    "collapsed": false
   },
   "outputs": [
    {
     "data": {
      "text/plain": [
       "<seaborn.axisgrid.FacetGrid at 0x10f721c18>"
      ]
     },
     "execution_count": 4,
     "metadata": {},
     "output_type": "execute_result"
    },
    {
     "data": {
      "image/png": "[encoded data removed]",
      "text/plain": [
       "<matplotlib.figure.Figure at 0x10f721cf8>"
      ]
     },
     "metadata": {},
     "output_type": "display_data"
    }
   ],
   "source": [
    "fig = sns.FacetGrid(train, hue='Pclass', aspect=4)\n",
    "fig.map(sns.kdeplot, 'Age', shade=True)\n",
    "sns.plt.xlim(0,train['Age'].max())\n",
    "fig.add_legend()"
   ]
  },
  {
   "cell_type": "markdown",
   "metadata": {},
   "source": [
    "### Fare"
   ]
  },
  {
   "cell_type": "code",
   "execution_count": 5,
   "metadata": {
    "collapsed": false
   },
   "outputs": [
    {
     "data": {
      "text/plain": [
       "<seaborn.axisgrid.FacetGrid at 0x114b48ac8>"
      ]
     },
     "execution_count": 5,
     "metadata": {},
     "output_type": "execute_result"
    },
    {
     "data": {
      "image/png": "[encoded data removed]",
      "text/plain": [
       "<matplotlib.figure.Figure at 0x1105745c0>"
      ]
     },
     "metadata": {},
     "output_type": "display_data"
    }
   ],
   "source": [
    "fig = sns.FacetGrid(train, hue='Pclass', aspect=4)\n",
    "fig.map(sns.kdeplot, 'Fare', shade=True)\n",
    "sns.plt.xlim(0, 80)\n",
    "fig.add_legend()"
   ]
  },
  {
   "cell_type": "markdown",
   "metadata": {},
   "source": [
    "### Survival"
   ]
  },
  {
   "cell_type": "code",
   "execution_count": 6,
   "metadata": {
    "collapsed": false
   },
   "outputs": [
    {
     "data": {
      "text/plain": [
       "<matplotlib.axes._subplots.AxesSubplot at 0x114ae0f60>"
      ]
     },
     "execution_count": 6,
     "metadata": {},
     "output_type": "execute_result"
    },
    {
     "data": {
      "image/png": "[encoded data removed]",
      "text/plain": [
       "<matplotlib.figure.Figure at 0x114a1c208>"
      ]
     },
     "metadata": {},
     "output_type": "display_data"
    }
   ],
   "source": [
    "train['Survived'][train['Sex']=='male'].value_counts().plot(kind='bar')\n",
    "train['Survived'][train['Sex']=='female'].value_counts().plot(kind='bar', color='r')"
   ]
  },
  {
   "cell_type": "code",
   "execution_count": 7,
   "metadata": {
    "collapsed": false
   },
   "outputs": [
    {
     "name": "stdout",
     "output_type": "stream",
     "text": [
      "male 109 Survived\n",
      "male 468 did not\n",
      "female 233 Survived\n",
      "female 81 did not\n"
     ]
    }
   ],
   "source": [
    "print('male', (train[train['Sex']=='male']['Survived'] == 1).sum(), 'Survived')\n",
    "print('male', (train[train['Sex']=='male']['Survived'] == 0).sum(), 'did not')\n",
    "print('female', (train[train['Sex']=='female']['Survived'] == 1).sum(), 'Survived')\n",
    "print('female', (train[train['Sex']=='female']['Survived'] == 0).sum(), 'did not')"
   ]
  },
  {
   "cell_type": "code",
   "execution_count": 8,
   "metadata": {
    "collapsed": false
   },
   "outputs": [
    {
     "data": {
      "text/plain": [
       "<seaborn.axisgrid.FacetGrid at 0x114da36d8>"
      ]
     },
     "execution_count": 8,
     "metadata": {},
     "output_type": "execute_result"
    },
    {
     "data": {
      "image/png": "[encoded data removed]",
      "text/plain": [
       "<matplotlib.figure.Figure at 0x114da3278>"
      ]
     },
     "metadata": {},
     "output_type": "display_data"
    }
   ],
   "source": [
    "g = sns.FacetGrid(train, hue=\"Survived\", size=4, aspect=2)\n",
    "g.map(plt.hist, \"Pclass\", histtype='barstacked', stacked=True, alpha=.3);\n",
    "g.set(xticks=[1, 2, 3])"
   ]
  },
  {
   "cell_type": "code",
   "execution_count": 9,
   "metadata": {
    "collapsed": false
   },
   "outputs": [
    {
     "name": "stdout",
     "output_type": "stream",
     "text": [
      "Survival rate\n",
      "male class 1 survival ratio 0.368852459016\n",
      "female class 1 survival ratio 0.968085106383\n",
      "male class 2 survival ratio 0.157407407407\n",
      "female class 2 survival ratio 0.921052631579\n",
      "male class 3 survival ratio 0.135446685879\n",
      "female class 3 survival ratio 0.5\n"
     ]
    },
    {
     "name": "stderr",
     "output_type": "stream",
     "text": [
      "/opt/local/Library/Frameworks/Python.framework/Versions/3.4/lib/python3.4/site-packages/pandas/core/frame.py:1825: UserWarning: Boolean Series key will be reindexed to match DataFrame index.\n",
      "  \"DataFrame index.\", UserWarning)\n"
     ]
    }
   ],
   "source": [
    "print('Survival rate')\n",
    "for c in [1, 2, 3]:\n",
    "    male_yes = (train[train['Sex']=='male'][train['Pclass']==c]\n",
    "                ['Survived'] == 1).sum()\n",
    "    male = (train[train['Sex']=='male']['Pclass']==c).sum()\n",
    "    print('male', 'class', c, 'survival ratio', male_yes/male)\n",
    "    female_yes = (train[train['Sex']=='female'][train['Pclass']==c]\n",
    "                  ['Survived'] == 1).sum()\n",
    "    female = (train[train['Sex']=='female']['Pclass']==c).sum()\n",
    "    print('female', 'class', c, 'survival ratio', female_yes/female)"
   ]
  },
  {
   "cell_type": "markdown",
   "metadata": {
    "collapsed": true
   },
   "source": [
    "## Data cleaning"
   ]
  },
  {
   "cell_type": "code",
   "execution_count": 10,
   "metadata": {
    "collapsed": false
   },
   "outputs": [
    {
     "name": "stdout",
     "output_type": "stream",
     "text": [
      "Survived      0\n",
      "Pclass        0\n",
      "Name          0\n",
      "Sex           0\n",
      "Age         177\n",
      "SibSp         0\n",
      "Parch         0\n",
      "Ticket        0\n",
      "Fare          0\n",
      "Cabin       687\n",
      "Embarked      2\n",
      "dtype: int64\n",
      "Pclass        0\n",
      "Name          0\n",
      "Sex           0\n",
      "Age          86\n",
      "SibSp         0\n",
      "Parch         0\n",
      "Ticket        0\n",
      "Fare          1\n",
      "Cabin       327\n",
      "Embarked      0\n",
      "dtype: int64\n"
     ]
    }
   ],
   "source": [
    "# Check missing value\n",
    "print(train.isnull().sum())\n",
    "print(test.isnull().sum())"
   ]
  },
  {
   "cell_type": "markdown",
   "metadata": {},
   "source": [
    "### Cabin and Embarked: Too many missing values -> dropped "
   ]
  },
  {
   "cell_type": "code",
   "execution_count": 11,
   "metadata": {
    "collapsed": false
   },
   "outputs": [],
   "source": [
    "train.drop(['Cabin', 'Embarked'], axis=1, inplace=True)\n",
    "test.drop(['Cabin', 'Embarked'], axis=1, inplace=True)"
   ]
  },
  {
   "cell_type": "markdown",
   "metadata": {},
   "source": [
    "### Clean up Fare (1 price ticket per person)"
   ]
  },
  {
   "cell_type": "code",
   "execution_count": 21,
   "metadata": {
    "collapsed": false
   },
   "outputs": [],
   "source": [
    "def get_ticket_fare(data, df):\n",
    "    for t,n in df['Ticket'].value_counts().items():\n",
    "        if n==1:\n",
    "            break\n",
    "        data.loc[data['Ticket'].str.contains(t), 'Fare'] /= n\n",
    "    return data\n",
    "\n",
    "df = pd.concat([train, test], axis=0)\n",
    "train = get_ticket_fare(train, df)\n",
    "test = get_ticket_fare(test, df)"
   ]
  },
  {
   "cell_type": "markdown",
   "metadata": {},
   "source": [
    "Fill missing value Fare (median of the corresponding Pclass)"
   ]
  },
  {
   "cell_type": "code",
   "execution_count": 22,
   "metadata": {
    "collapsed": true
   },
   "outputs": [],
   "source": [
    "for c in [1, 2, 3]:\n",
    "    test.loc[(test['Pclass'] == c) & (test['Fare'].isnull()), 'Fare'] = \\\n",
    "    test.loc[(test['Pclass'] == c), 'Fare'].median()"
   ]
  },
  {
   "cell_type": "markdown",
   "metadata": {},
   "source": [
    "### Replace Sex (male, female) by Person (child, male, female)"
   ]
  },
  {
   "cell_type": "code",
   "execution_count": 23,
   "metadata": {
    "collapsed": false
   },
   "outputs": [],
   "source": [
    "train.loc[train['Sex'] == 'female', 'Person'] = 'female'\n",
    "train.loc[train['Sex'] == 'male', 'Person'] = 'male'\n",
    "train.loc[train['Age'] < 16, 'Person'] = 'child'\n",
    "train.drop('Sex', axis=1, inplace=True)\n",
    "test.loc[test['Sex'] == 'female', 'Person'] = 'female'\n",
    "test.loc[test['Sex'] == 'male', 'Person'] = 'male'\n",
    "test.loc[test['Age'] < 16, 'Person'] = 'child'\n",
    "test.drop('Sex', axis=1, inplace=True)"
   ]
  },
  {
   "cell_type": "markdown",
   "metadata": {},
   "source": [
    "### Add feature 'Title'"
   ]
  },
  {
   "cell_type": "code",
   "execution_count": 24,
   "metadata": {
    "collapsed": false
   },
   "outputs": [],
   "source": [
    "def get_title(data):\n",
    "    name_full = data['Name'].str.split(',').apply(pd.Series, 1).stack()\n",
    "    name = name_full[:, 1].str.split('.').apply(pd.Series, 1).stack()\n",
    "    title = name[:, 0].map(str.strip)\n",
    "    title[title.str.contains('Mme|Mlle')] = 'Miss'\n",
    "    title[title.str.contains('Lady|Ms|the Countess|Dona') |\n",
    "         (title.str.contains('Dr') & (train['Person'] == 'female'))] = 'Mrs'\n",
    "    title[title.str.contains('Dr') & (train['Person'] == 'female')] = 'Mrs'\n",
    "    title[title.str.contains('Dr') & (train['Person'] == 'male')] = 'Mr'\n",
    "    title[title.str.contains('Capt|Col|Don|Jonkheer|Major|Rev|Sir')] = 'Mr'\n",
    "    data['Title'] = title\n",
    "    data.drop('Name', axis=1, inplace=True) \n",
    "    return data\n",
    "\n",
    "train = get_title(train)\n",
    "test = get_title(test)"
   ]
  },
  {
   "cell_type": "markdown",
   "metadata": {},
   "source": [
    "### Get dummies ('Person', 'Pclass', 'Title')"
   ]
  },
  {
   "cell_type": "code",
   "execution_count": 25,
   "metadata": {
    "collapsed": false
   },
   "outputs": [],
   "source": [
    "def get_dummies(data, col_names):\n",
    "    for name in col_names:\n",
    "        dummies = pd.get_dummies(data[name])\n",
    "        data = pd.concat([data, dummies], axis=1)\n",
    "        data.drop([name], axis=1, inplace=True)\n",
    "    return data\n",
    "col_names = {'Person', 'Pclass', 'Title'}\n",
    "train = get_dummies(train, col_names)\n",
    "test = get_dummies(test, col_names)"
   ]
  },
  {
   "cell_type": "code",
   "execution_count": 26,
   "metadata": {
    "collapsed": false
   },
   "outputs": [],
   "source": [
    "def get_ages(data, N):\n",
    "    age_max = max([train['Age'].max(), test['Age'].max()])\n",
    "    age_vec = np.linspace(0, age_max, N)\n",
    "    data['Ages'] = -1\n",
    "    for i in range(len(age_vec)-1):\n",
    "        data.loc[(data['Age'] >= age_vec[i])\n",
    "                     & (data['Age'] < age_vec[i+1]), 'Ages'] = i\n",
    "\n",
    "N = 7  # number of bins\n",
    "get_ages(train, N)\n",
    "get_ages(test, N)\n",
    "train.drop('Age', axis=1, inplace=True)\n",
    "test.drop('Age', axis=1, inplace=True)"
   ]
  },
  {
   "cell_type": "code",
   "execution_count": 27,
   "metadata": {
    "collapsed": false
   },
   "outputs": [
    {
     "data": {
      "text/html": [
       "<div>\n",
       "<table border=\"1\" class=\"dataframe\">\n",
       "  <thead>\n",
       "    <tr style=\"text-align: right;\">\n",
       "      <th></th>\n",
       "      <th>Master</th>\n",
       "      <th>Miss</th>\n",
       "      <th>Mr</th>\n",
       "      <th>Mrs</th>\n",
       "      <th>Parch</th>\n",
       "      <th>SibSp</th>\n",
       "      <th>1</th>\n",
       "      <th>2</th>\n",
       "      <th>3</th>\n",
       "      <th>child</th>\n",
       "      <th>female</th>\n",
       "      <th>male</th>\n",
       "    </tr>\n",
       "  </thead>\n",
       "  <tbody>\n",
       "    <tr>\n",
       "      <th>0</th>\n",
       "      <td>0</td>\n",
       "      <td>0</td>\n",
       "      <td>1</td>\n",
       "      <td>0</td>\n",
       "      <td>0</td>\n",
       "      <td>1</td>\n",
       "      <td>0</td>\n",
       "      <td>0</td>\n",
       "      <td>1</td>\n",
       "      <td>0</td>\n",
       "      <td>0</td>\n",
       "      <td>1</td>\n",
       "    </tr>\n",
       "    <tr>\n",
       "      <th>1</th>\n",
       "      <td>0</td>\n",
       "      <td>0</td>\n",
       "      <td>0</td>\n",
       "      <td>1</td>\n",
       "      <td>0</td>\n",
       "      <td>1</td>\n",
       "      <td>1</td>\n",
       "      <td>0</td>\n",
       "      <td>0</td>\n",
       "      <td>0</td>\n",
       "      <td>1</td>\n",
       "      <td>0</td>\n",
       "    </tr>\n",
       "  </tbody>\n",
       "</table>\n",
       "</div>"
      ],
      "text/plain": [
       "   Master  Miss  Mr  Mrs  Parch  SibSp  1  2  3  child  female  male\n",
       "0       0     0   1    0      0      1  0  0  1      0       0     1\n",
       "1       0     0   0    1      0      1  1  0  0      0       1     0"
      ]
     },
     "execution_count": 27,
     "metadata": {},
     "output_type": "execute_result"
    }
   ],
   "source": [
    "df = pd.concat([train, test], axis=0)\n",
    "df.isnull().sum()\n",
    "df_f = df.drop(['Survived', 'Fare', 'Ticket'], axis=1)\n",
    "data = df_f[df_f['Ages']!=-1]\n",
    "y = data['Ages']\n",
    "X = data.drop('Ages', axis=1)\n",
    "X.head(2)"
   ]
  },
  {
   "cell_type": "code",
   "execution_count": 28,
   "metadata": {
    "collapsed": false
   },
   "outputs": [
    {
     "name": "stdout",
     "output_type": "stream",
     "text": [
      "\n",
      "Performing grid search...\n",
      "pipeline: ['svc']\n",
      "Fitting 5 folds for each of 400 candidates, totalling 2000 fits\n"
     ]
    },
    {
     "name": "stderr",
     "output_type": "stream",
     "text": [
      "[Parallel(n_jobs=-2)]: Done   1 jobs       | elapsed:    0.1s\n",
      "[Parallel(n_jobs=-2)]: Done  50 jobs       | elapsed:    1.1s\n",
      "[Parallel(n_jobs=-2)]: Done 200 jobs       | elapsed:    3.8s\n",
      "[Parallel(n_jobs=-2)]: Done 450 jobs       | elapsed:    9.3s\n",
      "[Parallel(n_jobs=-2)]: Done 800 jobs       | elapsed:   18.3s\n",
      "[Parallel(n_jobs=-2)]: Done 1250 jobs       | elapsed:   29.4s\n",
      "[Parallel(n_jobs=-2)]: Done 1800 jobs       | elapsed:  1.2min\n",
      "[Parallel(n_jobs=-2)]: Done 1996 out of 2000 | elapsed:  4.0min remaining:    0.5s\n",
      "[Parallel(n_jobs=-2)]: Done 2000 out of 2000 | elapsed:  4.0min finished\n"
     ]
    },
    {
     "name": "stdout",
     "output_type": "stream",
     "text": [
      "\n",
      "Best score: 0.516\n",
      "\n",
      "Best parameters set:\n",
      "\tsvc__C: 695.1927961775591\n",
      "\tsvc__gamma: 0.00615848211066026\n",
      "TEST set\n",
      "0.537799043062\n"
     ]
    }
   ],
   "source": [
    "pipeline = Pipeline([\n",
    "    ('svc', SVC()),\n",
    "])\n",
    "parameters = {\n",
    "    'svc__C': np.logspace(-6, 6, 20),\n",
    "    'svc__gamma': np.logspace(-6, 6, 20),\n",
    "}\n",
    "\n",
    "grid_search = GridSearchCV(pipeline, parameters, n_jobs=-2, verbose=1,\n",
    "                           cv=5, refit=True)\n",
    "print(\"\\nPerforming grid search...\")\n",
    "print(\"pipeline:\", [name for name, _ in pipeline.steps])\n",
    "grid_search.fit(X, y);\n",
    "print(\"\\nBest score: {:0.3f}\".format(grid_search.best_score_))\n",
    "print(\"\\nBest parameters set:\")\n",
    "best_parameters = grid_search.best_estimator_.get_params()\n",
    "for param_name in sorted(parameters.keys()):\n",
    "    print(\"\\t{}: {}\".format(param_name, best_parameters[param_name]))\n",
    "print('TEST set')\n",
    "grid_search.best_estimator_.predict(X)\n",
    "print(metrics.accuracy_score(y, grid_search.best_estimator_.predict(X)))"
   ]
  },
  {
   "cell_type": "markdown",
   "metadata": {
    "collapsed": true
   },
   "source": [
    "### Learning curve"
   ]
  },
  {
   "cell_type": "code",
   "execution_count": 32,
   "metadata": {
    "collapsed": true
   },
   "outputs": [],
   "source": [
    "def plt_learning_curve(grid_search, X, y, cv):\n",
    "    sizes = [100, 200, 300, 400, 500, 600, 700]\n",
    "    train_sizes, train_scores, test_scores = learning_curve(\n",
    "    grid_search.best_estimator_, X, y, cv=cv)\n",
    "    print(train_sizes)\n",
    "    train_scores_mean = np.mean(train_scores, axis=1)\n",
    "    train_scores_std = np.std(train_scores, axis=1)\n",
    "    test_scores_mean = np.mean(test_scores, axis=1)\n",
    "    test_scores_std = np.std(test_scores, axis=1)\n",
    "\n",
    "    plt.fill_between(train_sizes, train_scores_mean - train_scores_std,\n",
    "                     train_scores_mean + train_scores_std, alpha=0.1,\n",
    "                     color='g')\n",
    "    plt.fill_between(train_sizes, test_scores_mean - test_scores_std,\n",
    "                    test_scores_mean + test_scores_std, alpha=0.1, \n",
    "                     color='r')\n",
    "    plt.plot(train_sizes, train_scores_mean, 'o-', color='g',\n",
    "            label='Training score')\n",
    "    plt.plot(train_sizes, test_scores_mean, 'o-', color='r',\n",
    "            label='Cross-validation score')"
   ]
  },
  {
   "cell_type": "code",
   "execution_count": 33,
   "metadata": {
    "collapsed": false
   },
   "outputs": [
    {
     "name": "stdout",
     "output_type": "stream",
     "text": [
      "[ 83 271 458 646 834]\n"
     ]
    },
    {
     "data": {
      "image/png": "[encoded data removed]",
      "text/plain": [
       "<matplotlib.figure.Figure at 0x115171ba8>"
      ]
     },
     "metadata": {},
     "output_type": "display_data"
    }
   ],
   "source": [
    "plt_learning_curve(grid_search, X, y, cv=5)"
   ]
  },
  {
   "cell_type": "markdown",
   "metadata": {},
   "source": [
    "### underfitting! error is big but acceptable ;-)"
   ]
  },
  {
   "cell_type": "code",
   "execution_count": 35,
   "metadata": {
    "collapsed": false
   },
   "outputs": [
    {
     "ename": "ValueError",
     "evalue": "Must have equal len keys and value when setting with an iterable",
     "output_type": "error",
     "traceback": [
      "\u001b[0;31m---------------------------------------------------------------------------\u001b[0m",
      "\u001b[0;31mValueError\u001b[0m                                Traceback (most recent call last)",
      "\u001b[0;32m<ipython-input-35-6e738d1903c3>\u001b[0m in \u001b[0;36m<module>\u001b[0;34m()\u001b[0m\n\u001b[1;32m      2\u001b[0m \u001b[0mX_age\u001b[0m \u001b[0;34m=\u001b[0m \u001b[0mdf_age\u001b[0m\u001b[0;34m.\u001b[0m\u001b[0mdrop\u001b[0m\u001b[0;34m(\u001b[0m\u001b[0;34m[\u001b[0m\u001b[0;34m'Survived'\u001b[0m\u001b[0;34m,\u001b[0m \u001b[0;34m'Ages'\u001b[0m\u001b[0;34m,\u001b[0m \u001b[0;34m'Fare'\u001b[0m\u001b[0;34m,\u001b[0m \u001b[0;34m'Ticket'\u001b[0m\u001b[0;34m]\u001b[0m\u001b[0;34m,\u001b[0m \u001b[0maxis\u001b[0m\u001b[0;34m=\u001b[0m\u001b[0;36m1\u001b[0m\u001b[0;34m)\u001b[0m\u001b[0;34m\u001b[0m\u001b[0m\n\u001b[1;32m      3\u001b[0m \u001b[0;34m\u001b[0m\u001b[0m\n\u001b[0;32m----> 4\u001b[0;31m \u001b[0mtrain\u001b[0m\u001b[0;34m.\u001b[0m\u001b[0mix\u001b[0m\u001b[0;34m[\u001b[0m\u001b[0mtrain\u001b[0m\u001b[0;34m[\u001b[0m\u001b[0;34m'Ages'\u001b[0m\u001b[0;34m]\u001b[0m \u001b[0;34m==\u001b[0m \u001b[0;34m-\u001b[0m\u001b[0;36m1\u001b[0m\u001b[0;34m,\u001b[0m \u001b[0;34m'Ages'\u001b[0m\u001b[0;34m]\u001b[0m \u001b[0;34m=\u001b[0m     \u001b[0mgrid_search\u001b[0m\u001b[0;34m.\u001b[0m\u001b[0mbest_estimator_\u001b[0m\u001b[0;34m.\u001b[0m\u001b[0mpredict\u001b[0m\u001b[0;34m(\u001b[0m\u001b[0mX_age\u001b[0m\u001b[0;34m[\u001b[0m\u001b[0;34m:\u001b[0m\u001b[0;36m178\u001b[0m\u001b[0;34m]\u001b[0m\u001b[0;34m)\u001b[0m\u001b[0;34m\u001b[0m\u001b[0m\n\u001b[0m\u001b[1;32m      5\u001b[0m \u001b[0mtest\u001b[0m\u001b[0;34m.\u001b[0m\u001b[0mix\u001b[0m\u001b[0;34m[\u001b[0m\u001b[0mtest\u001b[0m\u001b[0;34m[\u001b[0m\u001b[0;34m'Ages'\u001b[0m\u001b[0;34m]\u001b[0m \u001b[0;34m==\u001b[0m \u001b[0;34m-\u001b[0m\u001b[0;36m1\u001b[0m\u001b[0;34m,\u001b[0m \u001b[0;34m'Ages'\u001b[0m\u001b[0;34m]\u001b[0m \u001b[0;34m=\u001b[0m     \u001b[0mgrid_search\u001b[0m\u001b[0;34m.\u001b[0m\u001b[0mbest_estimator_\u001b[0m\u001b[0;34m.\u001b[0m\u001b[0mpredict\u001b[0m\u001b[0;34m(\u001b[0m\u001b[0mX_age\u001b[0m\u001b[0;34m[\u001b[0m\u001b[0;36m178\u001b[0m\u001b[0;34m:\u001b[0m\u001b[0;34m]\u001b[0m\u001b[0;34m)\u001b[0m\u001b[0;34m\u001b[0m\u001b[0m\n",
      "\u001b[0;32m/opt/local/Library/Frameworks/Python.framework/Versions/3.4/lib/python3.4/site-packages/pandas/core/indexing.py\u001b[0m in \u001b[0;36m__setitem__\u001b[0;34m(self, key, value)\u001b[0m\n\u001b[1;32m    113\u001b[0m     \u001b[0;32mdef\u001b[0m \u001b[0m__setitem__\u001b[0m\u001b[0;34m(\u001b[0m\u001b[0mself\u001b[0m\u001b[0;34m,\u001b[0m \u001b[0mkey\u001b[0m\u001b[0;34m,\u001b[0m \u001b[0mvalue\u001b[0m\u001b[0;34m)\u001b[0m\u001b[0;34m:\u001b[0m\u001b[0;34m\u001b[0m\u001b[0m\n\u001b[1;32m    114\u001b[0m         \u001b[0mindexer\u001b[0m \u001b[0;34m=\u001b[0m \u001b[0mself\u001b[0m\u001b[0;34m.\u001b[0m\u001b[0m_get_setitem_indexer\u001b[0m\u001b[0;34m(\u001b[0m\u001b[0mkey\u001b[0m\u001b[0;34m)\u001b[0m\u001b[0;34m\u001b[0m\u001b[0m\n\u001b[0;32m--> 115\u001b[0;31m         \u001b[0mself\u001b[0m\u001b[0;34m.\u001b[0m\u001b[0m_setitem_with_indexer\u001b[0m\u001b[0;34m(\u001b[0m\u001b[0mindexer\u001b[0m\u001b[0;34m,\u001b[0m \u001b[0mvalue\u001b[0m\u001b[0;34m)\u001b[0m\u001b[0;34m\u001b[0m\u001b[0m\n\u001b[0m\u001b[1;32m    116\u001b[0m \u001b[0;34m\u001b[0m\u001b[0m\n\u001b[1;32m    117\u001b[0m     \u001b[0;32mdef\u001b[0m \u001b[0m_has_valid_type\u001b[0m\u001b[0;34m(\u001b[0m\u001b[0mself\u001b[0m\u001b[0;34m,\u001b[0m \u001b[0mk\u001b[0m\u001b[0;34m,\u001b[0m \u001b[0maxis\u001b[0m\u001b[0;34m)\u001b[0m\u001b[0;34m:\u001b[0m\u001b[0;34m\u001b[0m\u001b[0m\n",
      "\u001b[0;32m/opt/local/Library/Frameworks/Python.framework/Versions/3.4/lib/python3.4/site-packages/pandas/core/indexing.py\u001b[0m in \u001b[0;36m_setitem_with_indexer\u001b[0;34m(self, indexer, value)\u001b[0m\n\u001b[1;32m    468\u001b[0m \u001b[0;34m\u001b[0m\u001b[0m\n\u001b[1;32m    469\u001b[0m                     \u001b[0;32mif\u001b[0m \u001b[0mlen\u001b[0m\u001b[0;34m(\u001b[0m\u001b[0mlabels\u001b[0m\u001b[0;34m)\u001b[0m \u001b[0;34m!=\u001b[0m \u001b[0mlen\u001b[0m\u001b[0;34m(\u001b[0m\u001b[0mvalue\u001b[0m\u001b[0;34m)\u001b[0m\u001b[0;34m:\u001b[0m\u001b[0;34m\u001b[0m\u001b[0m\n\u001b[0;32m--> 470\u001b[0;31m                         raise ValueError('Must have equal len keys and value '\n\u001b[0m\u001b[1;32m    471\u001b[0m                                          'when setting with an iterable')\n\u001b[1;32m    472\u001b[0m \u001b[0;34m\u001b[0m\u001b[0m\n",
      "\u001b[0;31mValueError\u001b[0m: Must have equal len keys and value when setting with an iterable"
     ]
    }
   ],
   "source": [
    "df_age = df[df['Ages'] == -1]\n",
    "X_age = df_age.drop(['Survived', 'Ages', 'Fare', 'Ticket'], axis=1)\n",
    "\n",
    "train.ix[train['Ages'] == -1, 'Ages'] = \\\n",
    "    grid_search.best_estimator_.predict(X_age[:178])\n",
    "test.ix[test['Ages'] == -1, 'Ages'] = \\\n",
    "    grid_search.best_estimator_.predict(X_age[178:])"
   ]
  },
  {
   "cell_type": "code",
   "execution_count": 161,
   "metadata": {
    "collapsed": false
   },
   "outputs": [
    {
     "data": {
      "text/plain": [
       "['Survived',\n",
       " 'SibSp',\n",
       " 'Parch',\n",
       " 'Ticket',\n",
       " 'Fare',\n",
       " 'Master',\n",
       " 'Miss',\n",
       " 'Mr',\n",
       " 'Mrs',\n",
       " 1,\n",
       " 2,\n",
       " 3,\n",
       " 'child',\n",
       " 'female',\n",
       " 'male',\n",
       " 'Ages']"
      ]
     },
     "execution_count": 161,
     "metadata": {},
     "output_type": "execute_result"
    }
   ],
   "source": [
    "list(train)"
   ]
  },
  {
   "cell_type": "code",
   "execution_count": 36,
   "metadata": {
    "collapsed": false
   },
   "outputs": [
    {
     "name": "stdout",
     "output_type": "stream",
     "text": [
      "Survived    0\n",
      "SibSp       0\n",
      "Parch       0\n",
      "Ticket      0\n",
      "Fare        0\n",
      "Master      0\n",
      "Miss        0\n",
      "Mr          0\n",
      "Mrs         0\n",
      "1           0\n",
      "2           0\n",
      "3           0\n",
      "child       0\n",
      "female      0\n",
      "male        0\n",
      "Ages        0\n",
      "dtype: int64\n",
      "\n",
      "SibSp     0\n",
      "Parch     0\n",
      "Ticket    0\n",
      "Fare      0\n",
      "Master    0\n",
      "Miss      0\n",
      "Mr        0\n",
      "Mrs       0\n",
      "1         0\n",
      "2         0\n",
      "3         0\n",
      "child     0\n",
      "female    0\n",
      "male      0\n",
      "Ages      0\n",
      "dtype: int64\n"
     ]
    }
   ],
   "source": [
    "# check\n",
    "print(train.isnull().sum())\n",
    "print()\n",
    "print(test.isnull().sum())"
   ]
  },
  {
   "cell_type": "code",
   "execution_count": 37,
   "metadata": {
    "collapsed": false
   },
   "outputs": [],
   "source": [
    "col_names = {'Ages'}\n",
    "for name in col_names:\n",
    "    dummies = pd.get_dummies(train[name])\n",
    "    train = pd.concat([train, dummies], axis=1)\n",
    "    train.drop([name], axis=1, inplace=True)\n",
    "for name in col_names:\n",
    "    dummies = pd.get_dummies(test[name])\n",
    "    test = pd.concat([test, dummies], axis=1)\n",
    "    test.drop([name], axis=1, inplace=True)"
   ]
  },
  {
   "cell_type": "code",
   "execution_count": 38,
   "metadata": {
    "collapsed": true
   },
   "outputs": [],
   "source": [
    "train['Family'] = train['SibSp'] + train['Parch'] + 1\n",
    "test['Family'] = test['SibSp'] + test['Parch'] + 1"
   ]
  },
  {
   "cell_type": "markdown",
   "metadata": {},
   "source": [
    "### Split train set into data X and target y "
   ]
  },
  {
   "cell_type": "code",
   "execution_count": 60,
   "metadata": {
    "collapsed": false
   },
   "outputs": [],
   "source": [
    "y = train['Survived']\n",
    "X = train.drop(['Survived', 'Name', 'Ticket', 'Fare', 'SibSp', 'Parch'], axis=1)\n",
    "test.drop(['Name', 'Ticket', 'Fare', 'SibSp', 'Parch'], axis=1, inplace=True)"
   ]
  },
  {
   "cell_type": "code",
   "execution_count": 61,
   "metadata": {
    "collapsed": false
   },
   "outputs": [
    {
     "data": {
      "text/html": [
       "<div>\n",
       "<table border=\"1\" class=\"dataframe\">\n",
       "  <thead>\n",
       "    <tr style=\"text-align: right;\">\n",
       "      <th></th>\n",
       "      <th>Master</th>\n",
       "      <th>Miss</th>\n",
       "      <th>Mr</th>\n",
       "      <th>Mrs</th>\n",
       "      <th>1</th>\n",
       "      <th>2</th>\n",
       "      <th>3</th>\n",
       "      <th>child</th>\n",
       "      <th>female</th>\n",
       "      <th>male</th>\n",
       "      <th>0</th>\n",
       "      <th>1</th>\n",
       "      <th>2</th>\n",
       "      <th>3</th>\n",
       "      <th>4</th>\n",
       "      <th>5</th>\n",
       "      <th>Family</th>\n",
       "    </tr>\n",
       "  </thead>\n",
       "  <tbody>\n",
       "    <tr>\n",
       "      <th>0</th>\n",
       "      <td>0</td>\n",
       "      <td>0</td>\n",
       "      <td>1</td>\n",
       "      <td>0</td>\n",
       "      <td>0</td>\n",
       "      <td>0</td>\n",
       "      <td>1</td>\n",
       "      <td>0</td>\n",
       "      <td>0</td>\n",
       "      <td>1</td>\n",
       "      <td>0</td>\n",
       "      <td>1</td>\n",
       "      <td>0</td>\n",
       "      <td>0</td>\n",
       "      <td>0</td>\n",
       "      <td>0</td>\n",
       "      <td>2</td>\n",
       "    </tr>\n",
       "    <tr>\n",
       "      <th>1</th>\n",
       "      <td>0</td>\n",
       "      <td>0</td>\n",
       "      <td>0</td>\n",
       "      <td>1</td>\n",
       "      <td>1</td>\n",
       "      <td>0</td>\n",
       "      <td>0</td>\n",
       "      <td>0</td>\n",
       "      <td>1</td>\n",
       "      <td>0</td>\n",
       "      <td>0</td>\n",
       "      <td>0</td>\n",
       "      <td>1</td>\n",
       "      <td>0</td>\n",
       "      <td>0</td>\n",
       "      <td>0</td>\n",
       "      <td>2</td>\n",
       "    </tr>\n",
       "    <tr>\n",
       "      <th>2</th>\n",
       "      <td>0</td>\n",
       "      <td>1</td>\n",
       "      <td>0</td>\n",
       "      <td>0</td>\n",
       "      <td>0</td>\n",
       "      <td>0</td>\n",
       "      <td>1</td>\n",
       "      <td>0</td>\n",
       "      <td>1</td>\n",
       "      <td>0</td>\n",
       "      <td>0</td>\n",
       "      <td>1</td>\n",
       "      <td>0</td>\n",
       "      <td>0</td>\n",
       "      <td>0</td>\n",
       "      <td>0</td>\n",
       "      <td>1</td>\n",
       "    </tr>\n",
       "  </tbody>\n",
       "</table>\n",
       "</div>"
      ],
      "text/plain": [
       "   Master  Miss  Mr  Mrs  1  2  3  child  female  male  0  1  2  3  4  5  \\\n",
       "0       0     0   1    0  0  0  1      0       0     1  0  1  0  0  0  0   \n",
       "1       0     0   0    1  1  0  0      0       1     0  0  0  1  0  0  0   \n",
       "2       0     1   0    0  0  0  1      0       1     0  0  1  0  0  0  0   \n",
       "\n",
       "   Family  \n",
       "0       2  \n",
       "1       2  \n",
       "2       1  "
      ]
     },
     "execution_count": 61,
     "metadata": {},
     "output_type": "execute_result"
    }
   ],
   "source": [
    "X.head(3)"
   ]
  },
  {
   "cell_type": "markdown",
   "metadata": {},
   "source": [
    "### Split into train and test sets"
   ]
  },
  {
   "cell_type": "code",
   "execution_count": 62,
   "metadata": {
    "collapsed": false
   },
   "outputs": [],
   "source": [
    "X_train, X_test, y_train, y_test = train_test_split(X, y, test_size=.2)"
   ]
  },
  {
   "cell_type": "markdown",
   "metadata": {},
   "source": [
    "## MODELS"
   ]
  },
  {
   "cell_type": "markdown",
   "metadata": {},
   "source": [
    "### Logistic regression"
   ]
  },
  {
   "cell_type": "code",
   "execution_count": 63,
   "metadata": {
    "collapsed": true
   },
   "outputs": [],
   "source": [
    "pipe_log = Pipeline([\n",
    "    ('log', LogisticRegression()),\n",
    "])\n",
    "param_log = {\n",
    "    'log__C': np.logspace(-3, 3, 20),\n",
    "}"
   ]
  },
  {
   "cell_type": "markdown",
   "metadata": {},
   "source": [
    "### Decision Tree"
   ]
  },
  {
   "cell_type": "code",
   "execution_count": 25,
   "metadata": {
    "collapsed": false
   },
   "outputs": [],
   "source": [
    "pipe_dt = Pipeline([\n",
    "    ('dt', DecisionTreeClassifier()),\n",
    "])\n",
    "param_dt = {\n",
    "    'dt__max_depth': np.arange(2, 40),\n",
    "    'dt__min_samples_leaf': np.arange(2, 40),\n",
    "}"
   ]
  },
  {
   "cell_type": "markdown",
   "metadata": {},
   "source": [
    "### Random Forest"
   ]
  },
  {
   "cell_type": "code",
   "execution_count": 51,
   "metadata": {
    "collapsed": true
   },
   "outputs": [],
   "source": [
    "pipe_rfc = Pipeline([\n",
    "    ('rf', RandomForestClassifier()),\n",
    "])\n",
    "param_rfc = {\n",
    "    'rf__n_estimators': np.arange(10, 30),\n",
    "    'rf__max_leaf_nodes': np.arange(10, 30),\n",
    "    #'rf__max_features': ('sqrt', 'auto'),\n",
    "}"
   ]
  },
  {
   "cell_type": "markdown",
   "metadata": {},
   "source": [
    "### Support vector Machine"
   ]
  },
  {
   "cell_type": "code",
   "execution_count": 56,
   "metadata": {
    "collapsed": true
   },
   "outputs": [],
   "source": [
    "pipe_svc = Pipeline([\n",
    "    ('svc', SVC(probability=True)),\n",
    "])\n",
    "param_svc = {\n",
    "    'svc__C': np.logspace(-3, 0, 20),\n",
    "    'svc__gamma': np.logspace(-3, 3, 20),\n",
    "}"
   ]
  },
  {
   "cell_type": "markdown",
   "metadata": {},
   "source": [
    "## Cross validation"
   ]
  },
  {
   "cell_type": "code",
   "execution_count": 64,
   "metadata": {
    "collapsed": false
   },
   "outputs": [
    {
     "name": "stdout",
     "output_type": "stream",
     "text": [
      "\n",
      "Performing grid search...\n",
      "pipeline: ['svc']\n",
      "Fitting 10 folds for each of 400 candidates, totalling 4000 fits\n"
     ]
    },
    {
     "name": "stderr",
     "output_type": "stream",
     "text": [
      "[Parallel(n_jobs=-2)]: Done   1 jobs       | elapsed:    0.1s\n",
      "[Parallel(n_jobs=-2)]: Done  50 jobs       | elapsed:    2.1s\n",
      "[Parallel(n_jobs=-2)]: Done 200 jobs       | elapsed:    7.3s\n",
      "[Parallel(n_jobs=-2)]: Done 450 jobs       | elapsed:   16.8s\n",
      "[Parallel(n_jobs=-2)]: Done 800 jobs       | elapsed:   32.0s\n",
      "[Parallel(n_jobs=-2)]: Done 1250 jobs       | elapsed:   50.3s\n",
      "[Parallel(n_jobs=-2)]: Done 1800 jobs       | elapsed:  1.2min\n",
      "[Parallel(n_jobs=-2)]: Done 2450 jobs       | elapsed:  1.7min\n",
      "[Parallel(n_jobs=-2)]: Done 3200 jobs       | elapsed:  2.1min\n",
      "[Parallel(n_jobs=-2)]: Done 3996 out of 4000 | elapsed:  2.6min remaining:    0.2s\n",
      "[Parallel(n_jobs=-2)]: Done 4000 out of 4000 | elapsed:  2.6min finished\n"
     ]
    },
    {
     "name": "stdout",
     "output_type": "stream",
     "text": [
      "\n",
      "Best score: 0.843\n",
      "\n",
      "Best parameters set:\n",
      "\tsvc__C: 1.0\n",
      "\tsvc__gamma: 0.6951927961775606\n",
      "TEST set\n",
      "0.804469273743\n"
     ]
    }
   ],
   "source": [
    "def search(pipeline, param, n_jobs=-2, cv=10, refit=True):\n",
    "    grid_search = GridSearchCV(pipeline, param, n_jobs=n_jobs,\n",
    "                               verbose=1, cv=cv, refit=refit)\n",
    "    print(\"\\nPerforming grid search...\")\n",
    "    print(\"pipeline:\", [name for name, _ in pipeline.steps])\n",
    "    grid_search.fit(X_train, y_train);\n",
    "    print(\"\\nBest score: {:0.3f}\".format(grid_search.best_score_))\n",
    "    print(\"\\nBest parameters set:\")\n",
    "    best_parameters = grid_search.best_estimator_.get_params()\n",
    "    for param_name in sorted(param.keys()):\n",
    "        print(\"\\t{}: {}\".format(param_name, best_parameters[param_name]))\n",
    "    print('TEST set')\n",
    "    grid_search.best_estimator_.predict(X_test)\n",
    "    print(metrics.accuracy_score(y_test, grid_search.best_estimator_.predict(X_test)))\n",
    "\n",
    "    return grid_search\n",
    "\n",
    "#grid_search = search(pipe_log, param_log);\n",
    "grid_search = search(pipe_svc, param_svc);\n",
    "#grid_search = search(pipe_rfc, param_rfc);"
   ]
  },
  {
   "cell_type": "markdown",
   "metadata": {},
   "source": [
    "### Learning curve"
   ]
  },
  {
   "cell_type": "code",
   "execution_count": 58,
   "metadata": {
    "collapsed": false
   },
   "outputs": [
    {
     "name": "stdout",
     "output_type": "stream",
     "text": [
      "[ 84 274 464 654 845]\n"
     ]
    },
    {
     "data": {
      "image/png": "[encoded data removed]",
      "text/plain": [
       "<matplotlib.figure.Figure at 0x114a6ca20>"
      ]
     },
     "metadata": {},
     "output_type": "display_data"
    }
   ],
   "source": [
    "plt_learning_curve(grid_search, X, y, cv=20)"
   ]
  },
  {
   "cell_type": "markdown",
   "metadata": {},
   "source": [
    "### Get csv file"
   ]
  },
  {
   "cell_type": "code",
   "execution_count": 65,
   "metadata": {
    "collapsed": false
   },
   "outputs": [],
   "source": [
    "res = grid_search.best_estimator_.predict(test)\n",
    "titanic_file = open('titanic_res.csv', 'wt')\n",
    "open_file_object = csv.writer(titanic_file)\n",
    "open_file_object.writerow(['PassengerId','Survived'])\n",
    "open_file_object.writerows(zip(ids_test.T, res.T))\n",
    "titanic_file.close()"
   ]
  }
 ],
 "metadata": {
  "kernelspec": {
   "display_name": "Python 3",
   "language": "python",
   "name": "python3"
  },
  "language_info": {
   "codemirror_mode": {
    "name": "ipython",
    "version": 3
   },
   "file_extension": ".py",
   "mimetype": "text/x-python",
   "name": "python",
   "nbconvert_exporter": "python",
   "pygments_lexer": "ipython3",
   "version": "3.4.3"
  }
 },
 "nbformat": 4,
 "nbformat_minor": 0
}
