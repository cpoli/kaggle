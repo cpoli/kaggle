{
 "cells": [
  {
   "cell_type": "code",
   "execution_count": 1,
   "metadata": {
    "collapsed": false
   },
   "outputs": [],
   "source": [
    "import pandas\n",
    "import numpy as np\n",
    "import matplotlib.pyplot as plt\n",
    "from sklearn.metrics import accuracy_score\n",
    "from sklearn import linear_model\n",
    "from sklearn.cross_validation import train_test_split\n",
    "import random\n",
    "from sklearn.cross_validation import StratifiedKFold\n",
    "from sklearn.metrics import log_loss\n",
    "import os\n",
    "import seaborn as sns\n",
    "from sklearn import preprocessing\n",
    "from sklearn.learning_curve import validation_curve\n",
    "from sklearn.base import BaseEstimator\n",
    "from sklearn.pipeline import Pipeline\n",
    "from sklearn.grid_search import GridSearchCV\n",
    "# import copy\n",
    "# \n",
    "# import sys\n",
    "# import math\n",
    "\n",
    "# from sklearn.base import BaseEstimator\n",
    "# from sklearn.tree import DecisionTreeRegressor\n",
    "# from sklearn.linear_model import LinearRegression\n",
    "\n",
    "\n",
    "# from sklearn.pipeline import Pipeline\n",
    "# from sklearn.grid_search import GridSearchCV\n",
    "# from sklearn import cross_validation\n",
    "# from sklearn import metrics\n",
    "# from sklearn.metrics import r2_score, mean_squared_error, make_scorer\n",
    "# from sklearn.learning_curve import validation_curve\n",
    "# from sklearn.learning_curve import learning_curve\n",
    "# from sklearn.preprocessing import PolynomialFeatures\n",
    "# from sklearn.pipeline import make_pipeline\n",
    "# from sklearn.cluster import KMeans, DBSCAN\n",
    "# from sklearn.neighbors import KNeighborsRegressor\n"
   ]
  },
  {
   "cell_type": "code",
   "execution_count": 2,
   "metadata": {
    "collapsed": true
   },
   "outputs": [],
   "source": [
    "%matplotlib inline"
   ]
  },
  {
   "cell_type": "code",
   "execution_count": 3,
   "metadata": {
    "collapsed": false
   },
   "outputs": [
    {
     "name": "stdout",
     "output_type": "stream",
     "text": [
      "(878049, 9)\n",
      "(39,)\n"
     ]
    },
    {
     "data": {
      "text/html": [
       "<div>\n",
       "<table border=\"1\" class=\"dataframe\">\n",
       "  <thead>\n",
       "    <tr style=\"text-align: right;\">\n",
       "      <th></th>\n",
       "      <th>Dates</th>\n",
       "      <th>Category</th>\n",
       "      <th>Descript</th>\n",
       "      <th>DayOfWeek</th>\n",
       "      <th>PdDistrict</th>\n",
       "      <th>Resolution</th>\n",
       "      <th>Address</th>\n",
       "      <th>X</th>\n",
       "      <th>Y</th>\n",
       "    </tr>\n",
       "  </thead>\n",
       "  <tbody>\n",
       "    <tr>\n",
       "      <th>0</th>\n",
       "      <td>2015-05-13 23:53:00</td>\n",
       "      <td>WARRANTS</td>\n",
       "      <td>WARRANT ARREST</td>\n",
       "      <td>Wednesday</td>\n",
       "      <td>NORTHERN</td>\n",
       "      <td>ARREST, BOOKED</td>\n",
       "      <td>OAK ST / LAGUNA ST</td>\n",
       "      <td>-122.425892</td>\n",
       "      <td>37.774599</td>\n",
       "    </tr>\n",
       "  </tbody>\n",
       "</table>\n",
       "</div>"
      ],
      "text/plain": [
       "                Dates  Category        Descript  DayOfWeek PdDistrict  \\\n",
       "0 2015-05-13 23:53:00  WARRANTS  WARRANT ARREST  Wednesday   NORTHERN   \n",
       "\n",
       "       Resolution             Address           X          Y  \n",
       "0  ARREST, BOOKED  OAK ST / LAGUNA ST -122.425892  37.774599  "
      ]
     },
     "execution_count": 3,
     "metadata": {},
     "output_type": "execute_result"
    }
   ],
   "source": [
    "file_name = 'train.csv'\n",
    "path_to_file = os.path.join(file_name)\n",
    "df_train = pandas.read_csv(path_to_file, parse_dates = ['Dates'])\n",
    "print(df_train.shape)\n",
    "print(df_train.Category.unique().shape)\n",
    "df_train.head(1)\n"
   ]
  },
  {
   "cell_type": "code",
   "execution_count": 4,
   "metadata": {
    "collapsed": false
   },
   "outputs": [],
   "source": [
    "y_train = df_train.iloc[:,1]\n",
    "X_train = df_train.drop(['Category'],axis=1)\n",
    "# X_train.head()"
   ]
  },
  {
   "cell_type": "code",
   "execution_count": 5,
   "metadata": {
    "collapsed": true
   },
   "outputs": [],
   "source": [
    "#print('unique addresses: ',X_train.Address.unique().shape)\n",
    "#X_sorted_address = X_train.iloc[:,4:6].groupby(['Address']).count().sort(['Resolution'],ascending=False)\n",
    "#X_sorted_address.columns.values[0] = 'total'\n",
    "#X_sorted_address.head()"
   ]
  },
  {
   "cell_type": "code",
   "execution_count": 6,
   "metadata": {
    "collapsed": false
   },
   "outputs": [
    {
     "data": {
      "text/plain": [
       "<matplotlib.collections.PathCollection at 0xa1530f0>"
      ]
     },
     "execution_count": 6,
     "metadata": {},
     "output_type": "execute_result"
    },
    {
     "data": {
      "image/png": "[encoded data removed]",
      "text/plain": [
       "<matplotlib.figure.Figure at 0x8718f98>"
      ]
     },
     "metadata": {},
     "output_type": "display_data"
    }
   ],
   "source": [
    "plt.scatter(X_train.iloc[:,-2:-1],X_train.iloc[:,-1])"
   ]
  },
  {
   "cell_type": "markdown",
   "metadata": {},
   "source": [
    "X=long\n",
    "Y=lat\n",
    "san fran = -122 37\n",
    "-120.5 90 = arctic circle = bad gps"
   ]
  },
  {
   "cell_type": "code",
   "execution_count": 7,
   "metadata": {
    "collapsed": false
   },
   "outputs": [
    {
     "name": "stdout",
     "output_type": "stream",
     "text": [
      "67\n"
     ]
    },
    {
     "data": {
      "text/plain": [
       "<matplotlib.collections.PathCollection at 0x11891550>"
      ]
     },
     "execution_count": 7,
     "metadata": {},
     "output_type": "execute_result"
    },
    {
     "data": {
      "image/png": "[encoded data removed]",
      "text/plain": [
       "<matplotlib.figure.Figure at 0xa153fd0>"
      ]
     },
     "metadata": {},
     "output_type": "display_data"
    }
   ],
   "source": [
    "#getting rid of bad gps data\n",
    "print(X_train[X_train.Y>40].shape[0])\n",
    "right_indexes = X_train[X_train.Y<40].index\n",
    "X_gps = X_train.iloc[right_indexes,:]\n",
    "y_gps = y_train[right_indexes]\n",
    "\n",
    "plt.scatter(X_gps.X,X_gps.Y)"
   ]
  },
  {
   "cell_type": "code",
   "execution_count": 8,
   "metadata": {
    "collapsed": false,
    "scrolled": true
   },
   "outputs": [
    {
     "name": "stdout",
     "output_type": "stream",
     "text": [
      "(877982, 9)\n"
     ]
    },
    {
     "data": {
      "text/html": [
       "<div>\n",
       "<table border=\"1\" class=\"dataframe\">\n",
       "  <thead>\n",
       "    <tr style=\"text-align: right;\">\n",
       "      <th></th>\n",
       "      <th>Dates</th>\n",
       "      <th>Descript</th>\n",
       "      <th>DayOfWeek</th>\n",
       "      <th>PdDistrict</th>\n",
       "      <th>Resolution</th>\n",
       "      <th>Address</th>\n",
       "      <th>X</th>\n",
       "      <th>Y</th>\n",
       "    </tr>\n",
       "    <tr>\n",
       "      <th>Category</th>\n",
       "      <th></th>\n",
       "      <th></th>\n",
       "      <th></th>\n",
       "      <th></th>\n",
       "      <th></th>\n",
       "      <th></th>\n",
       "      <th></th>\n",
       "      <th></th>\n",
       "    </tr>\n",
       "  </thead>\n",
       "  <tbody>\n",
       "    <tr>\n",
       "      <th>LARCENY/THEFT</th>\n",
       "      <td>174885</td>\n",
       "      <td>174885</td>\n",
       "      <td>174885</td>\n",
       "      <td>174885</td>\n",
       "      <td>174885</td>\n",
       "      <td>174885</td>\n",
       "      <td>174885</td>\n",
       "      <td>174885</td>\n",
       "    </tr>\n",
       "    <tr>\n",
       "      <th>OTHER OFFENSES</th>\n",
       "      <td>126165</td>\n",
       "      <td>126165</td>\n",
       "      <td>126165</td>\n",
       "      <td>126165</td>\n",
       "      <td>126165</td>\n",
       "      <td>126165</td>\n",
       "      <td>126165</td>\n",
       "      <td>126165</td>\n",
       "    </tr>\n",
       "    <tr>\n",
       "      <th>NON-CRIMINAL</th>\n",
       "      <td>92300</td>\n",
       "      <td>92300</td>\n",
       "      <td>92300</td>\n",
       "      <td>92300</td>\n",
       "      <td>92300</td>\n",
       "      <td>92300</td>\n",
       "      <td>92300</td>\n",
       "      <td>92300</td>\n",
       "    </tr>\n",
       "    <tr>\n",
       "      <th>ASSAULT</th>\n",
       "      <td>76872</td>\n",
       "      <td>76872</td>\n",
       "      <td>76872</td>\n",
       "      <td>76872</td>\n",
       "      <td>76872</td>\n",
       "      <td>76872</td>\n",
       "      <td>76872</td>\n",
       "      <td>76872</td>\n",
       "    </tr>\n",
       "    <tr>\n",
       "      <th>DRUG/NARCOTIC</th>\n",
       "      <td>53971</td>\n",
       "      <td>53971</td>\n",
       "      <td>53971</td>\n",
       "      <td>53971</td>\n",
       "      <td>53971</td>\n",
       "      <td>53971</td>\n",
       "      <td>53971</td>\n",
       "      <td>53971</td>\n",
       "    </tr>\n",
       "    <tr>\n",
       "      <th>VEHICLE THEFT</th>\n",
       "      <td>53772</td>\n",
       "      <td>53772</td>\n",
       "      <td>53772</td>\n",
       "      <td>53772</td>\n",
       "      <td>53772</td>\n",
       "      <td>53772</td>\n",
       "      <td>53772</td>\n",
       "      <td>53772</td>\n",
       "    </tr>\n",
       "    <tr>\n",
       "      <th>VANDALISM</th>\n",
       "      <td>44724</td>\n",
       "      <td>44724</td>\n",
       "      <td>44724</td>\n",
       "      <td>44724</td>\n",
       "      <td>44724</td>\n",
       "      <td>44724</td>\n",
       "      <td>44724</td>\n",
       "      <td>44724</td>\n",
       "    </tr>\n",
       "    <tr>\n",
       "      <th>WARRANTS</th>\n",
       "      <td>42206</td>\n",
       "      <td>42206</td>\n",
       "      <td>42206</td>\n",
       "      <td>42206</td>\n",
       "      <td>42206</td>\n",
       "      <td>42206</td>\n",
       "      <td>42206</td>\n",
       "      <td>42206</td>\n",
       "    </tr>\n",
       "    <tr>\n",
       "      <th>BURGLARY</th>\n",
       "      <td>36754</td>\n",
       "      <td>36754</td>\n",
       "      <td>36754</td>\n",
       "      <td>36754</td>\n",
       "      <td>36754</td>\n",
       "      <td>36754</td>\n",
       "      <td>36754</td>\n",
       "      <td>36754</td>\n",
       "    </tr>\n",
       "    <tr>\n",
       "      <th>SUSPICIOUS OCC</th>\n",
       "      <td>31412</td>\n",
       "      <td>31412</td>\n",
       "      <td>31412</td>\n",
       "      <td>31412</td>\n",
       "      <td>31412</td>\n",
       "      <td>31412</td>\n",
       "      <td>31412</td>\n",
       "      <td>31412</td>\n",
       "    </tr>\n",
       "    <tr>\n",
       "      <th>MISSING PERSON</th>\n",
       "      <td>25989</td>\n",
       "      <td>25989</td>\n",
       "      <td>25989</td>\n",
       "      <td>25989</td>\n",
       "      <td>25989</td>\n",
       "      <td>25989</td>\n",
       "      <td>25989</td>\n",
       "      <td>25989</td>\n",
       "    </tr>\n",
       "    <tr>\n",
       "      <th>ROBBERY</th>\n",
       "      <td>22999</td>\n",
       "      <td>22999</td>\n",
       "      <td>22999</td>\n",
       "      <td>22999</td>\n",
       "      <td>22999</td>\n",
       "      <td>22999</td>\n",
       "      <td>22999</td>\n",
       "      <td>22999</td>\n",
       "    </tr>\n",
       "    <tr>\n",
       "      <th>FRAUD</th>\n",
       "      <td>16679</td>\n",
       "      <td>16679</td>\n",
       "      <td>16679</td>\n",
       "      <td>16679</td>\n",
       "      <td>16679</td>\n",
       "      <td>16679</td>\n",
       "      <td>16679</td>\n",
       "      <td>16679</td>\n",
       "    </tr>\n",
       "    <tr>\n",
       "      <th>FORGERY/COUNTERFEITING</th>\n",
       "      <td>10609</td>\n",
       "      <td>10609</td>\n",
       "      <td>10609</td>\n",
       "      <td>10609</td>\n",
       "      <td>10609</td>\n",
       "      <td>10609</td>\n",
       "      <td>10609</td>\n",
       "      <td>10609</td>\n",
       "    </tr>\n",
       "    <tr>\n",
       "      <th>SECONDARY CODES</th>\n",
       "      <td>9985</td>\n",
       "      <td>9985</td>\n",
       "      <td>9985</td>\n",
       "      <td>9985</td>\n",
       "      <td>9985</td>\n",
       "      <td>9985</td>\n",
       "      <td>9985</td>\n",
       "      <td>9985</td>\n",
       "    </tr>\n",
       "    <tr>\n",
       "      <th>WEAPON LAWS</th>\n",
       "      <td>8555</td>\n",
       "      <td>8555</td>\n",
       "      <td>8555</td>\n",
       "      <td>8555</td>\n",
       "      <td>8555</td>\n",
       "      <td>8555</td>\n",
       "      <td>8555</td>\n",
       "      <td>8555</td>\n",
       "    </tr>\n",
       "    <tr>\n",
       "      <th>PROSTITUTION</th>\n",
       "      <td>7484</td>\n",
       "      <td>7484</td>\n",
       "      <td>7484</td>\n",
       "      <td>7484</td>\n",
       "      <td>7484</td>\n",
       "      <td>7484</td>\n",
       "      <td>7484</td>\n",
       "      <td>7484</td>\n",
       "    </tr>\n",
       "    <tr>\n",
       "      <th>TRESPASS</th>\n",
       "      <td>7325</td>\n",
       "      <td>7325</td>\n",
       "      <td>7325</td>\n",
       "      <td>7325</td>\n",
       "      <td>7325</td>\n",
       "      <td>7325</td>\n",
       "      <td>7325</td>\n",
       "      <td>7325</td>\n",
       "    </tr>\n",
       "    <tr>\n",
       "      <th>STOLEN PROPERTY</th>\n",
       "      <td>4539</td>\n",
       "      <td>4539</td>\n",
       "      <td>4539</td>\n",
       "      <td>4539</td>\n",
       "      <td>4539</td>\n",
       "      <td>4539</td>\n",
       "      <td>4539</td>\n",
       "      <td>4539</td>\n",
       "    </tr>\n",
       "    <tr>\n",
       "      <th>SEX OFFENSES FORCIBLE</th>\n",
       "      <td>4387</td>\n",
       "      <td>4387</td>\n",
       "      <td>4387</td>\n",
       "      <td>4387</td>\n",
       "      <td>4387</td>\n",
       "      <td>4387</td>\n",
       "      <td>4387</td>\n",
       "      <td>4387</td>\n",
       "    </tr>\n",
       "    <tr>\n",
       "      <th>DISORDERLY CONDUCT</th>\n",
       "      <td>4318</td>\n",
       "      <td>4318</td>\n",
       "      <td>4318</td>\n",
       "      <td>4318</td>\n",
       "      <td>4318</td>\n",
       "      <td>4318</td>\n",
       "      <td>4318</td>\n",
       "      <td>4318</td>\n",
       "    </tr>\n",
       "    <tr>\n",
       "      <th>DRUNKENNESS</th>\n",
       "      <td>4280</td>\n",
       "      <td>4280</td>\n",
       "      <td>4280</td>\n",
       "      <td>4280</td>\n",
       "      <td>4280</td>\n",
       "      <td>4280</td>\n",
       "      <td>4280</td>\n",
       "      <td>4280</td>\n",
       "    </tr>\n",
       "    <tr>\n",
       "      <th>RECOVERED VEHICLE</th>\n",
       "      <td>3138</td>\n",
       "      <td>3138</td>\n",
       "      <td>3138</td>\n",
       "      <td>3138</td>\n",
       "      <td>3138</td>\n",
       "      <td>3138</td>\n",
       "      <td>3138</td>\n",
       "      <td>3138</td>\n",
       "    </tr>\n",
       "    <tr>\n",
       "      <th>KIDNAPPING</th>\n",
       "      <td>2341</td>\n",
       "      <td>2341</td>\n",
       "      <td>2341</td>\n",
       "      <td>2341</td>\n",
       "      <td>2341</td>\n",
       "      <td>2341</td>\n",
       "      <td>2341</td>\n",
       "      <td>2341</td>\n",
       "    </tr>\n",
       "    <tr>\n",
       "      <th>DRIVING UNDER THE INFLUENCE</th>\n",
       "      <td>2268</td>\n",
       "      <td>2268</td>\n",
       "      <td>2268</td>\n",
       "      <td>2268</td>\n",
       "      <td>2268</td>\n",
       "      <td>2268</td>\n",
       "      <td>2268</td>\n",
       "      <td>2268</td>\n",
       "    </tr>\n",
       "    <tr>\n",
       "      <th>RUNAWAY</th>\n",
       "      <td>1946</td>\n",
       "      <td>1946</td>\n",
       "      <td>1946</td>\n",
       "      <td>1946</td>\n",
       "      <td>1946</td>\n",
       "      <td>1946</td>\n",
       "      <td>1946</td>\n",
       "      <td>1946</td>\n",
       "    </tr>\n",
       "    <tr>\n",
       "      <th>LIQUOR LAWS</th>\n",
       "      <td>1903</td>\n",
       "      <td>1903</td>\n",
       "      <td>1903</td>\n",
       "      <td>1903</td>\n",
       "      <td>1903</td>\n",
       "      <td>1903</td>\n",
       "      <td>1903</td>\n",
       "      <td>1903</td>\n",
       "    </tr>\n",
       "    <tr>\n",
       "      <th>ARSON</th>\n",
       "      <td>1513</td>\n",
       "      <td>1513</td>\n",
       "      <td>1513</td>\n",
       "      <td>1513</td>\n",
       "      <td>1513</td>\n",
       "      <td>1513</td>\n",
       "      <td>1513</td>\n",
       "      <td>1513</td>\n",
       "    </tr>\n",
       "    <tr>\n",
       "      <th>LOITERING</th>\n",
       "      <td>1225</td>\n",
       "      <td>1225</td>\n",
       "      <td>1225</td>\n",
       "      <td>1225</td>\n",
       "      <td>1225</td>\n",
       "      <td>1225</td>\n",
       "      <td>1225</td>\n",
       "      <td>1225</td>\n",
       "    </tr>\n",
       "    <tr>\n",
       "      <th>EMBEZZLEMENT</th>\n",
       "      <td>1166</td>\n",
       "      <td>1166</td>\n",
       "      <td>1166</td>\n",
       "      <td>1166</td>\n",
       "      <td>1166</td>\n",
       "      <td>1166</td>\n",
       "      <td>1166</td>\n",
       "      <td>1166</td>\n",
       "    </tr>\n",
       "    <tr>\n",
       "      <th>SUICIDE</th>\n",
       "      <td>508</td>\n",
       "      <td>508</td>\n",
       "      <td>508</td>\n",
       "      <td>508</td>\n",
       "      <td>508</td>\n",
       "      <td>508</td>\n",
       "      <td>508</td>\n",
       "      <td>508</td>\n",
       "    </tr>\n",
       "    <tr>\n",
       "      <th>FAMILY OFFENSES</th>\n",
       "      <td>491</td>\n",
       "      <td>491</td>\n",
       "      <td>491</td>\n",
       "      <td>491</td>\n",
       "      <td>491</td>\n",
       "      <td>491</td>\n",
       "      <td>491</td>\n",
       "      <td>491</td>\n",
       "    </tr>\n",
       "    <tr>\n",
       "      <th>BAD CHECKS</th>\n",
       "      <td>406</td>\n",
       "      <td>406</td>\n",
       "      <td>406</td>\n",
       "      <td>406</td>\n",
       "      <td>406</td>\n",
       "      <td>406</td>\n",
       "      <td>406</td>\n",
       "      <td>406</td>\n",
       "    </tr>\n",
       "    <tr>\n",
       "      <th>BRIBERY</th>\n",
       "      <td>289</td>\n",
       "      <td>289</td>\n",
       "      <td>289</td>\n",
       "      <td>289</td>\n",
       "      <td>289</td>\n",
       "      <td>289</td>\n",
       "      <td>289</td>\n",
       "      <td>289</td>\n",
       "    </tr>\n",
       "    <tr>\n",
       "      <th>EXTORTION</th>\n",
       "      <td>256</td>\n",
       "      <td>256</td>\n",
       "      <td>256</td>\n",
       "      <td>256</td>\n",
       "      <td>256</td>\n",
       "      <td>256</td>\n",
       "      <td>256</td>\n",
       "      <td>256</td>\n",
       "    </tr>\n",
       "    <tr>\n",
       "      <th>SEX OFFENSES NON FORCIBLE</th>\n",
       "      <td>148</td>\n",
       "      <td>148</td>\n",
       "      <td>148</td>\n",
       "      <td>148</td>\n",
       "      <td>148</td>\n",
       "      <td>148</td>\n",
       "      <td>148</td>\n",
       "      <td>148</td>\n",
       "    </tr>\n",
       "    <tr>\n",
       "      <th>GAMBLING</th>\n",
       "      <td>146</td>\n",
       "      <td>146</td>\n",
       "      <td>146</td>\n",
       "      <td>146</td>\n",
       "      <td>146</td>\n",
       "      <td>146</td>\n",
       "      <td>146</td>\n",
       "      <td>146</td>\n",
       "    </tr>\n",
       "    <tr>\n",
       "      <th>PORNOGRAPHY/OBSCENE MAT</th>\n",
       "      <td>22</td>\n",
       "      <td>22</td>\n",
       "      <td>22</td>\n",
       "      <td>22</td>\n",
       "      <td>22</td>\n",
       "      <td>22</td>\n",
       "      <td>22</td>\n",
       "      <td>22</td>\n",
       "    </tr>\n",
       "    <tr>\n",
       "      <th>TREA</th>\n",
       "      <td>6</td>\n",
       "      <td>6</td>\n",
       "      <td>6</td>\n",
       "      <td>6</td>\n",
       "      <td>6</td>\n",
       "      <td>6</td>\n",
       "      <td>6</td>\n",
       "      <td>6</td>\n",
       "    </tr>\n",
       "  </tbody>\n",
       "</table>\n",
       "</div>"
      ],
      "text/plain": [
       "                              Dates  Descript  DayOfWeek  PdDistrict  \\\n",
       "Category                                                               \n",
       "LARCENY/THEFT                174885    174885     174885      174885   \n",
       "OTHER OFFENSES               126165    126165     126165      126165   \n",
       "NON-CRIMINAL                  92300     92300      92300       92300   \n",
       "ASSAULT                       76872     76872      76872       76872   \n",
       "DRUG/NARCOTIC                 53971     53971      53971       53971   \n",
       "VEHICLE THEFT                 53772     53772      53772       53772   \n",
       "VANDALISM                     44724     44724      44724       44724   \n",
       "WARRANTS                      42206     42206      42206       42206   \n",
       "BURGLARY                      36754     36754      36754       36754   \n",
       "SUSPICIOUS OCC                31412     31412      31412       31412   \n",
       "MISSING PERSON                25989     25989      25989       25989   \n",
       "ROBBERY                       22999     22999      22999       22999   \n",
       "FRAUD                         16679     16679      16679       16679   \n",
       "FORGERY/COUNTERFEITING        10609     10609      10609       10609   \n",
       "SECONDARY CODES                9985      9985       9985        9985   \n",
       "WEAPON LAWS                    8555      8555       8555        8555   \n",
       "PROSTITUTION                   7484      7484       7484        7484   \n",
       "TRESPASS                       7325      7325       7325        7325   \n",
       "STOLEN PROPERTY                4539      4539       4539        4539   \n",
       "SEX OFFENSES FORCIBLE          4387      4387       4387        4387   \n",
       "DISORDERLY CONDUCT             4318      4318       4318        4318   \n",
       "DRUNKENNESS                    4280      4280       4280        4280   \n",
       "RECOVERED VEHICLE              3138      3138       3138        3138   \n",
       "KIDNAPPING                     2341      2341       2341        2341   \n",
       "DRIVING UNDER THE INFLUENCE    2268      2268       2268        2268   \n",
       "RUNAWAY                        1946      1946       1946        1946   \n",
       "LIQUOR LAWS                    1903      1903       1903        1903   \n",
       "ARSON                          1513      1513       1513        1513   \n",
       "LOITERING                      1225      1225       1225        1225   \n",
       "EMBEZZLEMENT                   1166      1166       1166        1166   \n",
       "SUICIDE                         508       508        508         508   \n",
       "FAMILY OFFENSES                 491       491        491         491   \n",
       "BAD CHECKS                      406       406        406         406   \n",
       "BRIBERY                         289       289        289         289   \n",
       "EXTORTION                       256       256        256         256   \n",
       "SEX OFFENSES NON FORCIBLE       148       148        148         148   \n",
       "GAMBLING                        146       146        146         146   \n",
       "PORNOGRAPHY/OBSCENE MAT          22        22         22          22   \n",
       "TREA                              6         6          6           6   \n",
       "\n",
       "                             Resolution  Address       X       Y  \n",
       "Category                                                          \n",
       "LARCENY/THEFT                    174885   174885  174885  174885  \n",
       "OTHER OFFENSES                   126165   126165  126165  126165  \n",
       "NON-CRIMINAL                      92300    92300   92300   92300  \n",
       "ASSAULT                           76872    76872   76872   76872  \n",
       "DRUG/NARCOTIC                     53971    53971   53971   53971  \n",
       "VEHICLE THEFT                     53772    53772   53772   53772  \n",
       "VANDALISM                         44724    44724   44724   44724  \n",
       "WARRANTS                          42206    42206   42206   42206  \n",
       "BURGLARY                          36754    36754   36754   36754  \n",
       "SUSPICIOUS OCC                    31412    31412   31412   31412  \n",
       "MISSING PERSON                    25989    25989   25989   25989  \n",
       "ROBBERY                           22999    22999   22999   22999  \n",
       "FRAUD                             16679    16679   16679   16679  \n",
       "FORGERY/COUNTERFEITING            10609    10609   10609   10609  \n",
       "SECONDARY CODES                    9985     9985    9985    9985  \n",
       "WEAPON LAWS                        8555     8555    8555    8555  \n",
       "PROSTITUTION                       7484     7484    7484    7484  \n",
       "TRESPASS                           7325     7325    7325    7325  \n",
       "STOLEN PROPERTY                    4539     4539    4539    4539  \n",
       "SEX OFFENSES FORCIBLE              4387     4387    4387    4387  \n",
       "DISORDERLY CONDUCT                 4318     4318    4318    4318  \n",
       "DRUNKENNESS                        4280     4280    4280    4280  \n",
       "RECOVERED VEHICLE                  3138     3138    3138    3138  \n",
       "KIDNAPPING                         2341     2341    2341    2341  \n",
       "DRIVING UNDER THE INFLUENCE        2268     2268    2268    2268  \n",
       "RUNAWAY                            1946     1946    1946    1946  \n",
       "LIQUOR LAWS                        1903     1903    1903    1903  \n",
       "ARSON                              1513     1513    1513    1513  \n",
       "LOITERING                          1225     1225    1225    1225  \n",
       "EMBEZZLEMENT                       1166     1166    1166    1166  \n",
       "SUICIDE                             508      508     508     508  \n",
       "FAMILY OFFENSES                     491      491     491     491  \n",
       "BAD CHECKS                          406      406     406     406  \n",
       "BRIBERY                             289      289     289     289  \n",
       "EXTORTION                           256      256     256     256  \n",
       "SEX OFFENSES NON FORCIBLE           148      148     148     148  \n",
       "GAMBLING                            146      146     146     146  \n",
       "PORNOGRAPHY/OBSCENE MAT              22       22      22      22  \n",
       "TREA                                  6        6       6       6  "
      ]
     },
     "execution_count": 8,
     "metadata": {},
     "output_type": "execute_result"
    }
   ],
   "source": [
    "df_test = df_train.iloc[right_indexes,:]\n",
    "print(df_test.shape)\n",
    "df_test.groupby('Category').count().sort(['Dates'],ascending=False)\n"
   ]
  },
  {
   "cell_type": "code",
   "execution_count": 18,
   "metadata": {
    "collapsed": false,
    "scrolled": true
   },
   "outputs": [
    {
     "data": {
      "text/plain": [
       "WARRANTS                       500\n",
       "LOITERING                      500\n",
       "LIQUOR LAWS                    500\n",
       "SECONDARY CODES                500\n",
       "TRESPASS                       500\n",
       "ARSON                          500\n",
       "KIDNAPPING                     500\n",
       "PROSTITUTION                   500\n",
       "STOLEN PROPERTY                500\n",
       "VEHICLE THEFT                  500\n",
       "ASSAULT                        500\n",
       "WEAPON LAWS                    500\n",
       "LARCENY/THEFT                  500\n",
       "RECOVERED VEHICLE              500\n",
       "DISORDERLY CONDUCT             500\n",
       "FORGERY/COUNTERFEITING         500\n",
       "FRAUD                          500\n",
       "DRUNKENNESS                    500\n",
       "DRUG/NARCOTIC                  500\n",
       "BURGLARY                       500\n",
       "SEX OFFENSES FORCIBLE          500\n",
       "RUNAWAY                        500\n",
       "VANDALISM                      500\n",
       "DRIVING UNDER THE INFLUENCE    500\n",
       "OTHER OFFENSES                 500\n",
       "EMBEZZLEMENT                   500\n",
       "SUICIDE                        500\n",
       "ROBBERY                        500\n",
       "SUSPICIOUS OCC                 500\n",
       "NON-CRIMINAL                   500\n",
       "MISSING PERSON                 500\n",
       "FAMILY OFFENSES                491\n",
       "BAD CHECKS                     406\n",
       "BRIBERY                        289\n",
       "EXTORTION                      256\n",
       "SEX OFFENSES NON FORCIBLE      148\n",
       "GAMBLING                       146\n",
       "PORNOGRAPHY/OBSCENE MAT         22\n",
       "TREA                             6\n",
       "dtype: int64"
      ]
     },
     "execution_count": 18,
     "metadata": {},
     "output_type": "execute_result"
    }
   ],
   "source": [
    "N=500\n",
    "df_fin = df_test.groupby('Category').apply(lambda x:x.sample(N) if x.shape[0]>=N  else x)\n",
    "y_train = df_fin.iloc[:,1]\n",
    "X_train = df_fin.drop(['Category'],axis=1)\n",
    "y_train.value_counts()"
   ]
  },
  {
   "cell_type": "markdown",
   "metadata": {
    "collapsed": false,
    "scrolled": true
   },
   "source": [
    "zz = pandas.concat([pandas.DataFrame(y_trans),pandas.DataFrame(h)],axis=1)"
   ]
  },
  {
   "cell_type": "markdown",
   "metadata": {
    "collapsed": false
   },
   "source": [
    "zz.head(10)\n",
    "zz.columns = ['1','2']\n",
    "zz['3'] = zz['1'] == zz['2']\n",
    "# zz = zz.drop('C',axis=1)"
   ]
  },
  {
   "cell_type": "markdown",
   "metadata": {
    "collapsed": false
   },
   "source": [
    "print(zz['3'].value_counts())\n",
    "print('\\ntrue/false:  ',701/16563)\n",
    "zz['3'].describe()"
   ]
  },
  {
   "cell_type": "code",
   "execution_count": 19,
   "metadata": {
    "collapsed": false,
    "scrolled": true
   },
   "outputs": [
    {
     "data": {
      "text/html": [
       "<div>\n",
       "<table border=\"1\" class=\"dataframe\">\n",
       "  <thead>\n",
       "    <tr style=\"text-align: right;\">\n",
       "      <th></th>\n",
       "      <th></th>\n",
       "      <th>0</th>\n",
       "      <th>1</th>\n",
       "      <th>2</th>\n",
       "      <th>3</th>\n",
       "      <th>4</th>\n",
       "      <th>5</th>\n",
       "      <th>6</th>\n",
       "      <th>7</th>\n",
       "      <th>8</th>\n",
       "      <th>9</th>\n",
       "      <th>...</th>\n",
       "      <th>INGLESIDE</th>\n",
       "      <th>MISSION</th>\n",
       "      <th>NORTHERN</th>\n",
       "      <th>PARK</th>\n",
       "      <th>RICHMOND</th>\n",
       "      <th>SOUTHERN</th>\n",
       "      <th>TARAVAL</th>\n",
       "      <th>TENDERLOIN</th>\n",
       "      <th>X</th>\n",
       "      <th>Y</th>\n",
       "    </tr>\n",
       "    <tr>\n",
       "      <th>Category</th>\n",
       "      <th></th>\n",
       "      <th></th>\n",
       "      <th></th>\n",
       "      <th></th>\n",
       "      <th></th>\n",
       "      <th></th>\n",
       "      <th></th>\n",
       "      <th></th>\n",
       "      <th></th>\n",
       "      <th></th>\n",
       "      <th></th>\n",
       "      <th></th>\n",
       "      <th></th>\n",
       "      <th></th>\n",
       "      <th></th>\n",
       "      <th></th>\n",
       "      <th></th>\n",
       "      <th></th>\n",
       "      <th></th>\n",
       "      <th></th>\n",
       "      <th></th>\n",
       "      <th></th>\n",
       "    </tr>\n",
       "  </thead>\n",
       "  <tbody>\n",
       "    <tr>\n",
       "      <th rowspan=\"5\" valign=\"top\">ARSON</th>\n",
       "      <th>58323</th>\n",
       "      <td>0</td>\n",
       "      <td>0</td>\n",
       "      <td>0</td>\n",
       "      <td>1</td>\n",
       "      <td>0</td>\n",
       "      <td>0</td>\n",
       "      <td>0</td>\n",
       "      <td>0</td>\n",
       "      <td>0</td>\n",
       "      <td>0</td>\n",
       "      <td>...</td>\n",
       "      <td>0</td>\n",
       "      <td>0</td>\n",
       "      <td>0</td>\n",
       "      <td>0</td>\n",
       "      <td>0</td>\n",
       "      <td>0</td>\n",
       "      <td>0</td>\n",
       "      <td>0</td>\n",
       "      <td>-122.386178</td>\n",
       "      <td>37.739322</td>\n",
       "    </tr>\n",
       "    <tr>\n",
       "      <th>783430</th>\n",
       "      <td>0</td>\n",
       "      <td>0</td>\n",
       "      <td>1</td>\n",
       "      <td>0</td>\n",
       "      <td>0</td>\n",
       "      <td>0</td>\n",
       "      <td>0</td>\n",
       "      <td>0</td>\n",
       "      <td>0</td>\n",
       "      <td>0</td>\n",
       "      <td>...</td>\n",
       "      <td>0</td>\n",
       "      <td>1</td>\n",
       "      <td>0</td>\n",
       "      <td>0</td>\n",
       "      <td>0</td>\n",
       "      <td>0</td>\n",
       "      <td>0</td>\n",
       "      <td>0</td>\n",
       "      <td>-122.419838</td>\n",
       "      <td>37.759375</td>\n",
       "    </tr>\n",
       "    <tr>\n",
       "      <th>562552</th>\n",
       "      <td>0</td>\n",
       "      <td>1</td>\n",
       "      <td>0</td>\n",
       "      <td>0</td>\n",
       "      <td>0</td>\n",
       "      <td>0</td>\n",
       "      <td>0</td>\n",
       "      <td>0</td>\n",
       "      <td>0</td>\n",
       "      <td>0</td>\n",
       "      <td>...</td>\n",
       "      <td>0</td>\n",
       "      <td>0</td>\n",
       "      <td>0</td>\n",
       "      <td>0</td>\n",
       "      <td>0</td>\n",
       "      <td>0</td>\n",
       "      <td>0</td>\n",
       "      <td>0</td>\n",
       "      <td>-122.389441</td>\n",
       "      <td>37.715558</td>\n",
       "    </tr>\n",
       "    <tr>\n",
       "      <th>421187</th>\n",
       "      <td>0</td>\n",
       "      <td>0</td>\n",
       "      <td>0</td>\n",
       "      <td>0</td>\n",
       "      <td>0</td>\n",
       "      <td>0</td>\n",
       "      <td>0</td>\n",
       "      <td>0</td>\n",
       "      <td>0</td>\n",
       "      <td>0</td>\n",
       "      <td>...</td>\n",
       "      <td>0</td>\n",
       "      <td>0</td>\n",
       "      <td>0</td>\n",
       "      <td>0</td>\n",
       "      <td>0</td>\n",
       "      <td>0</td>\n",
       "      <td>0</td>\n",
       "      <td>0</td>\n",
       "      <td>-122.390360</td>\n",
       "      <td>37.720506</td>\n",
       "    </tr>\n",
       "    <tr>\n",
       "      <th>732554</th>\n",
       "      <td>0</td>\n",
       "      <td>0</td>\n",
       "      <td>0</td>\n",
       "      <td>0</td>\n",
       "      <td>0</td>\n",
       "      <td>0</td>\n",
       "      <td>0</td>\n",
       "      <td>0</td>\n",
       "      <td>0</td>\n",
       "      <td>0</td>\n",
       "      <td>...</td>\n",
       "      <td>1</td>\n",
       "      <td>0</td>\n",
       "      <td>0</td>\n",
       "      <td>0</td>\n",
       "      <td>0</td>\n",
       "      <td>0</td>\n",
       "      <td>0</td>\n",
       "      <td>0</td>\n",
       "      <td>-122.421305</td>\n",
       "      <td>37.732164</td>\n",
       "    </tr>\n",
       "  </tbody>\n",
       "</table>\n",
       "<p>5 rows × 43 columns</p>\n",
       "</div>"
      ],
      "text/plain": [
       "                 0  1  2  3  4  5  6  7  8  9    ...      INGLESIDE  MISSION  \\\n",
       "Category                                         ...                           \n",
       "ARSON    58323   0  0  0  1  0  0  0  0  0  0    ...              0        0   \n",
       "         783430  0  0  1  0  0  0  0  0  0  0    ...              0        1   \n",
       "         562552  0  1  0  0  0  0  0  0  0  0    ...              0        0   \n",
       "         421187  0  0  0  0  0  0  0  0  0  0    ...              0        0   \n",
       "         732554  0  0  0  0  0  0  0  0  0  0    ...              1        0   \n",
       "\n",
       "                 NORTHERN  PARK  RICHMOND  SOUTHERN  TARAVAL  TENDERLOIN  \\\n",
       "Category                                                                   \n",
       "ARSON    58323          0     0         0         0        0           0   \n",
       "         783430         0     0         0         0        0           0   \n",
       "         562552         0     0         0         0        0           0   \n",
       "         421187         0     0         0         0        0           0   \n",
       "         732554         0     0         0         0        0           0   \n",
       "\n",
       "                          X          Y  \n",
       "Category                                \n",
       "ARSON    58323  -122.386178  37.739322  \n",
       "         783430 -122.419838  37.759375  \n",
       "         562552 -122.389441  37.715558  \n",
       "         421187 -122.390360  37.720506  \n",
       "         732554 -122.421305  37.732164  \n",
       "\n",
       "[5 rows x 43 columns]"
      ]
     },
     "execution_count": 19,
     "metadata": {},
     "output_type": "execute_result"
    }
   ],
   "source": [
    "days = pandas.get_dummies(X_train.DayOfWeek)\n",
    "district = pandas.get_dummies(X_train.PdDistrict)\n",
    "hour = X_train.Dates.dt.hour\n",
    "hour = pandas.get_dummies(hour) \n",
    "X_train_more = pandas.concat([hour, days, district, X_train['X'], X_train['Y']], axis=1)\n",
    "X_train_more.head()"
   ]
  },
  {
   "cell_type": "code",
   "execution_count": 24,
   "metadata": {
    "collapsed": true
   },
   "outputs": [],
   "source": [
    "NN=5\n",
    "cv_iter = list((a, b) for _ in range(NN) for a, b in StratifiedKFold(y_train, 2, shuffle=True))"
   ]
  },
  {
   "cell_type": "code",
   "execution_count": 25,
   "metadata": {
    "collapsed": false
   },
   "outputs": [
    {
     "name": "stdout",
     "output_type": "stream",
     "text": [
      "set  ,  mean  ,  std\n",
      "optimise 3.312 0.006 \n",
      "cross validation 3.459 0.006\n"
     ]
    },
    {
     "data": {
      "image/png": "[encoded data removed]",
      "text/plain": [
       "<matplotlib.figure.Figure at 0x8911ef0>"
      ]
     },
     "metadata": {},
     "output_type": "display_data"
    }
   ],
   "source": [
    "opt_scores = []\n",
    "cv_scores = []\n",
    "coefs = []\n",
    "lrm = linear_model.LogisticRegression(multi_class='ovr')\n",
    "for opt_index, cv_index in cv_iter:\n",
    "    X_opt = X_train_more.iloc[opt_index,:]\n",
    "    y_opt = y_train[opt_index]\n",
    "    X_cv = X_train_more.iloc[cv_index,:]\n",
    "    y_cv = y_train[cv_index]\n",
    "    \n",
    "    \n",
    "    lrm.fit(X_opt, y_opt)\n",
    "    coefs.append(lrm.coef_)\n",
    "    h_opt = lrm.predict_proba(X_opt)\n",
    "    h_cv = lrm.predict_proba(X_cv)\n",
    "    opt_score_temp = log_loss(y_opt,h_opt )\n",
    "    cv_score_temp = log_loss(y_cv, h_cv)\n",
    "    opt_scores.append(opt_score_temp)\n",
    "    cv_scores.append(cv_score_temp)\n",
    "    \n",
    "pandas.DataFrame({'opt': opt_scores, 'cv': cv_scores}).plot(kind='hist', bins=50, alpha=0.5)\n",
    "plt.gca().set_xlabel('logloss', fontweight='bold')\n",
    "plt.gca().set_ylabel('# of occurences', fontweight='bold')\n",
    "\n",
    "print(\n",
    "    'set  ,  mean  ,  std\\n'\n",
    "    'optimise', round(np.mean(opt_scores),3),round(np.std(opt_scores),3),'\\n'\n",
    "    'cross validation', round(np.mean(cv_scores),3),round(np.std(cv_scores),3)              \n",
    "     )\n"
   ]
  },
  {
   "cell_type": "code",
   "execution_count": 39,
   "metadata": {
    "collapsed": true
   },
   "outputs": [],
   "source": [
    "def plot_std(list_hyperparams, model_grid_scores, label_graph):\n",
    "    x = list_hyperparams\n",
    "    y = pandas.Series()\n",
    "    for mean_value in model_grid_scores:\n",
    "        y = y.append(pandas.Series(mean_value.mean_validation_score))\n",
    "\n",
    "    stdd = pandas.Series()\n",
    "    for mean_value in model_grid_scores:\n",
    "        stdd = stdd.append(pandas.Series(mean_value.cv_validation_scores.std()))\n",
    "    \n",
    "    plt.errorbar(x, -y, stdd,linestyle='None', marker='^', label=label_graph) \n",
    "    plt.legend(bbox_to_anchor=(1.05, 1), loc=2, borderaxespad=0.)\n",
    "    plt.xscale('log')\n",
    "    plt.xlabel('number months used')\n",
    "    plt.ylabel('average score')\n",
    "    \n",
    "def plot_val_curve(train_scores, valid_scores, interval):\n",
    "    train_scores_mean = np.mean(train_scores, axis=1)\n",
    "    train_scores_std = np.std(train_scores, axis=1)\n",
    "    valid_scores_mean = np.mean(valid_scores, axis=1)\n",
    "    valid_scores_std = np.std(valid_scores, axis=1)\n",
    "\n",
    "    plt.title(\"Validation Curve\")\n",
    "    plt.xlabel(\"$\\lambda$\")\n",
    "    plt.ylabel(\"Score\")\n",
    "    # plt.ylim(0.0, 1.1)\n",
    "    plt.semilogx(interval, -train_scores_mean, label=\"Training score\", color=\"r\")\n",
    "    plt.fill_between(interval, -train_scores_mean - train_scores_std,\n",
    "                     -train_scores_mean + train_scores_std, alpha=0.2, color=\"r\")\n",
    "    plt.semilogx(interval, -valid_scores_mean, label=\"Cross-validation score\",\n",
    "                 color=\"g\")\n",
    "    plt.fill_between(interval, -valid_scores_mean - valid_scores_std,\n",
    "                     -valid_scores_mean + valid_scores_std, alpha=0.2, color=\"g\")\n",
    "    plt.legend(loc=\"best\")\n",
    "    plt.show()"
   ]
  },
  {
   "cell_type": "code",
   "execution_count": 30,
   "metadata": {
    "collapsed": false
   },
   "outputs": [
    {
     "data": {
      "image/png": "[encoded data removed]",
      "text/plain": [
       "<matplotlib.figure.Figure at 0x8c68320>"
      ]
     },
     "metadata": {},
     "output_type": "display_data"
    }
   ],
   "source": [
    "list_params = np.logspace(-3, 1, 6)\n",
    "gridscores_list = []\n",
    "list_regr = [linear_model.LogisticRegression(multi_class='ovr')]\n",
    "list_regr_names = [x.__class__.__name__ for x in list_regr]\n",
    "\n",
    "param_grid = [\n",
    "    {\n",
    "        'regr__C': list_params,\n",
    "    },\n",
    "]\n",
    "\n",
    "fig = plt.figure()\n",
    "for regr in list_regr:\n",
    "    pipeline = Pipeline([\n",
    "        ('regr', regr),\n",
    "                        ])\n",
    "    \n",
    "    model_mse = GridSearchCV(pipeline, param_grid=param_grid, cv=cv_iter, \n",
    "                             scoring='log_loss')\n",
    "    model_mse.fit(X_train_more, y_train)\n",
    "    gridscores_list.append(model_mse.grid_scores_)\n",
    "    plot_std(list_params, model_mse.grid_scores_, regr.__class__.__name__)    \n",
    "    \n",
    "    \n",
    "scores_test = list()\n",
    "for grid in gridscores_list:\n",
    "    list_temp = [x[1] for x in grid]\n",
    "    scores_test.extend(list_temp)\n",
    "    \n",
    "\n",
    "plt.show()    "
   ]
  },
  {
   "cell_type": "code",
   "execution_count": 40,
   "metadata": {
    "collapsed": false
   },
   "outputs": [
    {
     "data": {
      "image/png": "[encoded data removed]",
      "text/plain": [
       "<matplotlib.figure.Figure at 0x8a924e0>"
      ]
     },
     "metadata": {},
     "output_type": "display_data"
    }
   ],
   "source": [
    "interval = np.logspace(-5, 3,12)\n",
    "train_scores, valid_scores = validation_curve(linear_model.LogisticRegression(multi_class='ovr'), X_train_more, y_train, \"C\", interval,\n",
    "                                              scoring='log_loss',cv=cv_iter)\n",
    "plot_val_curve(train_scores, valid_scores, interval)"
   ]
  },
  {
   "cell_type": "code",
   "execution_count": null,
   "metadata": {
    "collapsed": true
   },
   "outputs": [],
   "source": []
  },
  {
   "cell_type": "code",
   "execution_count": null,
   "metadata": {
    "collapsed": true
   },
   "outputs": [],
   "source": [
    "def custom_scorer(estimator, X, y):\n",
    "    return log_loss(y, estimator.predict_proba(X))\n",
    "    "
   ]
  },
  {
   "cell_type": "code",
   "execution_count": 26,
   "metadata": {
    "collapsed": false
   },
   "outputs": [],
   "source": []
  },
  {
   "cell_type": "code",
   "execution_count": 27,
   "metadata": {
    "collapsed": false
   },
   "outputs": [
    {
     "data": {
      "image/png": "[encoded data removed]",
      "text/plain": [
       "<matplotlib.figure.Figure at 0x9780fd0>"
      ]
     },
     "metadata": {},
     "output_type": "display_data"
    }
   ],
   "source": []
  },
  {
   "cell_type": "code",
   "execution_count": null,
   "metadata": {
    "collapsed": true
   },
   "outputs": [],
   "source": []
  },
  {
   "cell_type": "code",
   "execution_count": null,
   "metadata": {
    "collapsed": true
   },
   "outputs": [],
   "source": []
  },
  {
   "cell_type": "code",
   "execution_count": null,
   "metadata": {
    "collapsed": true
   },
   "outputs": [],
   "source": []
  },
  {
   "cell_type": "code",
   "execution_count": null,
   "metadata": {
    "collapsed": true
   },
   "outputs": [],
   "source": []
  },
  {
   "cell_type": "code",
   "execution_count": null,
   "metadata": {
    "collapsed": true
   },
   "outputs": [],
   "source": [
    "class LR_Estimator(BaseEstimator):\n",
    "    def __init__(self):\n",
    "        self.lrm = linear_model.LogisticRegression(multi_class='ovr')\n",
    "        self.lrm.__init__()\n",
    "        return None\n",
    "    \n",
    "    def fit(self, X, y):\n",
    "        return self.lrm.fit(X)\n",
    "\n",
    "    def score(self, X, y):\n",
    "        return log_loss(y, self.predict_proba(X))"
   ]
  },
  {
   "cell_type": "code",
   "execution_count": null,
   "metadata": {
    "collapsed": true
   },
   "outputs": [],
   "source": [
    "lrmm = linear_model.LogisticRegression(multi_class='ovr')\n",
    "train_scores, valid_scores = validation_curve(lrmm, X_train_more, y_train, \"C\", np.logspace(-3, 1, 6),\n",
    "                                              scoring=''custom_scorer(lrmm,X_train_more, y_train)'')"
   ]
  },
  {
   "cell_type": "code",
   "execution_count": null,
   "metadata": {
    "collapsed": false
   },
   "outputs": [],
   "source": [
    "import matplotlib.pyplot as plt\n",
    "import numpy as np\n",
    "from sklearn.datasets import load_digits\n",
    "from sklearn.svm import SVC\n",
    "from sklearn.learning_curve import validation_curve\n",
    "\n",
    "digits = load_digits()\n",
    "X, y = digits.data, digits.target\n",
    "\n",
    "param_range = np.logspace(-6, -1, 5)\n",
    "train_scores, test_scores = validation_curve(\n",
    "    SVC(), X, y, param_name=\"gamma\", param_range=param_range,\n",
    "    cv=10, scoring=\"accuracy\", n_jobs=1)\n",
    "train_scores_mean = np.mean(train_scores, axis=1)\n",
    "train_scores_std = np.std(train_scores, axis=1)\n",
    "test_scores_mean = np.mean(test_scores, axis=1)\n",
    "test_scores_std = np.std(test_scores, axis=1)\n",
    "\n",
    "plt.title(\"Validation Curve with SVM\")\n",
    "plt.xlabel(\"$\\gamma$\")\n",
    "plt.ylabel(\"Score\")\n",
    "plt.ylim(0.0, 1.1)\n",
    "plt.semilogx(param_range, train_scores_mean, label=\"Training score\", color=\"r\")\n",
    "plt.fill_between(param_range, train_scores_mean - train_scores_std,\n",
    "                 train_scores_mean + train_scores_std, alpha=0.2, color=\"r\")\n",
    "plt.semilogx(param_range, test_scores_mean, label=\"Cross-validation score\",\n",
    "             color=\"g\")\n",
    "plt.fill_between(param_range, test_scores_mean - test_scores_std,\n",
    "                 test_scores_mean + test_scores_std, alpha=0.2, color=\"g\")\n",
    "plt.legend(loc=\"best\")\n",
    "plt.show()"
   ]
  },
  {
   "cell_type": "code",
   "execution_count": null,
   "metadata": {
    "collapsed": true
   },
   "outputs": [],
   "source": []
  },
  {
   "cell_type": "code",
   "execution_count": null,
   "metadata": {
    "collapsed": true
   },
   "outputs": [],
   "source": []
  },
  {
   "cell_type": "code",
   "execution_count": null,
   "metadata": {
    "collapsed": true
   },
   "outputs": [],
   "source": []
  },
  {
   "cell_type": "code",
   "execution_count": null,
   "metadata": {
    "collapsed": true
   },
   "outputs": [],
   "source": []
  },
  {
   "cell_type": "code",
   "execution_count": null,
   "metadata": {
    "collapsed": true
   },
   "outputs": [],
   "source": [
    "n_months_back = 12\n",
    "list_hyperparams = list(range(1,n_months_back+1))\n",
    "gridscores_list = []\n",
    "list_regr = [linear_model.LinearRegression(), MeanEstimator(), DecisionTreeRegressor()]\n",
    "list_regr_names = [x.__class__.__name__ for x in list_regr]\n",
    "\n",
    "param_grid = [\n",
    "    {\n",
    "        'fs__n_features': list_hyperparams,\n",
    "    },\n",
    "]\n",
    "\n",
    "fig = plt.figure()\n",
    "for regr in list_regr:\n",
    "    pipeline = Pipeline([\n",
    "        ('fs', SelectRightNFeatures()),\n",
    "        ('regr', regr),\n",
    "                        ])\n",
    "    \n",
    "    model_mse = GridSearchCV(pipeline, param_grid=param_grid, cv=cv_iter, scoring=log_ratio_scorer())\n",
    "    model_mse.fit(X_log_train, y_log_train)\n",
    "    gridscores_list.append(model_mse.grid_scores_)\n",
    "    plot_std(list_hyperparams, model_mse.grid_scores_, regr.__class__.__name__)    \n",
    "    \n",
    "    \n",
    "scores_test = list()\n",
    "for grid in gridscores_list:\n",
    "    list_temp = [x[1] for x in grid]\n",
    "    scores_test.extend(list_temp)\n",
    "    \n",
    "scores_models = np.array(scores_test).reshape(len(list_regr),n_months_back)\n",
    "\n",
    "plt.figure(figsize=(12, 6))\n",
    "plt.imshow(scores_models, interpolation='nearest', origin='higher', cmap=plt.cm.get_cmap('jet'))\n",
    "plt.xticks(list(range(n_months_back)), range(1,n_months_back+1))\n",
    "plt.yticks(list(range(3)), ['linear', 'mean', 'decision tree'])\n",
    "plt.xlabel('Number of features (months) used')\n",
    "plt.ylabel('Models')\n",
    "\n",
    "cbar = plt.colorbar()\n",
    "cbar.set_label('mean LR error', rotation=270, labelpad=20)\n",
    "\n",
    "plt.show()    "
   ]
  },
  {
   "cell_type": "code",
   "execution_count": null,
   "metadata": {
    "collapsed": true
   },
   "outputs": [],
   "source": []
  },
  {
   "cell_type": "code",
   "execution_count": null,
   "metadata": {
    "collapsed": false
   },
   "outputs": [],
   "source": [
    "le = preprocessing.LabelEncoder()\n",
    "y_trans_more = le.fit_transform(y_train)"
   ]
  },
  {
   "cell_type": "code",
   "execution_count": null,
   "metadata": {
    "collapsed": false,
    "scrolled": true
   },
   "outputs": [],
   "source": [
    "pandas.Series(h_more).value_counts().index.shape"
   ]
  },
  {
   "cell_type": "code",
   "execution_count": null,
   "metadata": {
    "collapsed": false
   },
   "outputs": [],
   "source": [
    "pandas.Series(y_trans_more).value_counts().index.shape"
   ]
  },
  {
   "cell_type": "code",
   "execution_count": null,
   "metadata": {
    "collapsed": false
   },
   "outputs": [],
   "source": [
    "\n",
    "lrm.fit(X_train_more, y_trans_more)\n",
    "h_more = lrm.predict(X_train_more)\n",
    "print(h_more)\n",
    "print(log_loss(lrm.predict_proba(X_train_more), y_trans_more))"
   ]
  },
  {
   "cell_type": "code",
   "execution_count": null,
   "metadata": {
    "collapsed": false
   },
   "outputs": [],
   "source": []
  },
  {
   "cell_type": "markdown",
   "metadata": {},
   "source": [
    "# custom gridsearch below?"
   ]
  },
  {
   "cell_type": "markdown",
   "metadata": {},
   "source": [
    "from sklearn.cross_validation import KFold                                                                                                                   \n",
    "from sklearn.grid_search import GridSearchCV                                                                                                                 \n",
    "from sklearn.cross_validation import cross_val_score                                                                                                         \n",
    "import itertools                                                                                                                                             \n",
    "from sklearn import metrics                                                                                                                                  \n",
    "import operator                                                                                                                                              \n",
    "\n",
    "\n",
    "def model_eval(X, y, model, cv):                                                                                                                             \n",
    "        scores = []                                                                                                                                          \n",
    "        for train_idx, test_idx in cv:                                                                                                                       \n",
    "                X_train, y_train = X[train_idx], y[train_idx]                                                                                                \n",
    "                X_test, y_test = X[test_idx], y[test_idx]                                                                                                    \n",
    "                model.fit(X_train, y_train)                                                                                                                  \n",
    "                nonzero_coefs = len(np.nonzero(model.coef_)[0]) #check for nonzero coefs                                                                     \n",
    "                if nonzero_coefs == 0: #if they're all zero, don't evaluate any further; move to next hyperparameter combo                                   \n",
    "                        return 0                                                                                                                             \n",
    "                predictions = model.predict(X_test)                                                                                                          \n",
    "                score = metrics.accuracy_score(y_test, predictions)                                                                                          \n",
    "                scores.append(score)                                                                                                                         \n",
    "        return np.array(scores).mean()                                                                                                                       \n",
    "\n",
    "\n",
    "X, y = make_classification(n_samples=1000,                                                                                                                   \n",
    "                           n_features=10,                                                                                                                    \n",
    "                           n_informative=3,                                                                                                                  \n",
    "                           n_redundant=0,                                                                                                                    \n",
    "                           n_repeated=0,                                                                                                                     \n",
    "                           n_classes=2,                                                                                                                      \n",
    "                           random_state=0,                                                                                                                   \n",
    "                           shuffle=False)                                                                                                                    \n",
    "\n",
    "\n",
    "C = pow(2.0, np.arange(-20, 11))                                                                                                                             \n",
    "penalty = {'l1', 'l2'}                                                                                                                                       \n",
    "\n",
    "parameter_grid = itertools.product(C, penalty)                                                                                                               \n",
    "\n",
    "kf = KFold(X.shape[0], n_folds=5) #use the same folds  to evaluate each hyperparameter combo                                                                 \n",
    "\n",
    "hyperparameter_scores = {}                                                                                                                                   \n",
    "for C, penalty in parameter_grid:                                                                                                                            \n",
    "        model = svm.LinearSVC(dual=False, C=C, penalty=penalty)                                                                                              \n",
    "        result = model_eval(X, y, model, kf)                                                                                                                 \n",
    "        hyperparameter_scores[(C, penalty)] = result                                                                                                         \n",
    "\n",
    "sorted_scores = sorted(hyperparameter_scores.items(), key=operator.itemgetter(1))                                                                            \n",
    "\n",
    "best_parameters, best_score = sorted_scores[-1]                                                                                                              \n",
    "print best_parameters                                                                                                                                        \n",
    "print best_score     "
   ]
  },
  {
   "cell_type": "code",
   "execution_count": null,
   "metadata": {
    "collapsed": true
   },
   "outputs": [],
   "source": []
  },
  {
   "cell_type": "code",
   "execution_count": null,
   "metadata": {
    "collapsed": false
   },
   "outputs": [],
   "source": []
  }
 ],
 "metadata": {
  "kernelspec": {
   "display_name": "Python 3",
   "language": "python",
   "name": "python3"
  },
  "language_info": {
   "codemirror_mode": {
    "name": "ipython",
    "version": 3
   },
   "file_extension": ".py",
   "mimetype": "text/x-python",
   "name": "python",
   "nbconvert_exporter": "python",
   "pygments_lexer": "ipython3",
   "version": "3.4.3"
  }
 },
 "nbformat": 4,
 "nbformat_minor": 0
}
